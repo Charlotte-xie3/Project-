{
 "cells": [
  {
   "cell_type": "code",
   "execution_count": null,
   "id": "d162b6bb-04be-41c3-94af-44ab59e6500d",
   "metadata": {},
   "outputs": [],
   "source": []
  },
  {
   "cell_type": "code",
   "execution_count": null,
   "id": "f00c0043-c7ca-4492-ad2f-cced9d6fae30",
   "metadata": {},
   "outputs": [],
   "source": []
  },
  {
   "cell_type": "code",
   "execution_count": 1,
   "id": "eb2e3631-6704-4cac-8a49-88743235ff8e",
   "metadata": {},
   "outputs": [
    {
     "name": "stdout",
     "output_type": "stream",
     "text": [
      "Number of unique values in 'company_name' column: 8971\n",
      "Number of unique values in 'status_label' column: 2\n",
      "Number of unique values in 'Division' column: 10\n",
      "Number of unique values in 'MajorGroup' column: 73\n",
      "Number of unique values in 'last_year' column: 20\n"
     ]
    }
   ],
   "source": [
    "import pandas as pd\n",
    "\n",
    "# Read the data set\n",
    "data = pd.read_csv(\"new_df_selected1_onlylastyear_adjusted.csv\")\n",
    "\n",
    "unique_company_names = data['company_name'].nunique()\n",
    "unique_status_labels = data['status_label'].nunique()\n",
    "unique_divisions = data['Division'].nunique()\n",
    "unique_majorgroup = data['MajorGroup'].nunique()\n",
    "unique_last_year = data['last_year'].nunique()\n",
    "\n",
    "print(\"Number of unique values in 'company_name' column:\", unique_company_names)\n",
    "print(\"Number of unique values in 'status_label' column:\", unique_status_labels)\n",
    "print(\"Number of unique values in 'Division' column:\", unique_divisions)\n",
    "print(\"Number of unique values in 'MajorGroup' column:\", unique_majorgroup)\n",
    "print(\"Number of unique values in 'last_year' column:\", unique_last_year)\n",
    "\n"
   ]
  },
  {
   "cell_type": "code",
   "execution_count": null,
   "id": "263fa8e8-cf02-4f9e-a23d-74af29abb22c",
   "metadata": {},
   "outputs": [],
   "source": []
  },
  {
   "cell_type": "code",
   "execution_count": 2,
   "id": "0552208d-295c-4128-90b8-ed6e4d3a1494",
   "metadata": {},
   "outputs": [
    {
     "name": "stdout",
     "output_type": "stream",
     "text": [
      "<class 'pandas.core.frame.DataFrame'>\n",
      "RangeIndex: 8971 entries, 0 to 8970\n",
      "Data columns (total 43 columns):\n",
      " #   Column             Non-Null Count  Dtype  \n",
      "---  ------             --------------  -----  \n",
      " 0   company_name       8971 non-null   object \n",
      " 1   status_label       8971 non-null   object \n",
      " 2   Division           8971 non-null   object \n",
      " 3   MajorGroup         8971 non-null   int64  \n",
      " 4   last_year          8971 non-null   float64\n",
      " 5   X1_last1year       8971 non-null   float64\n",
      " 6   X2_last1year       8971 non-null   float64\n",
      " 7   X3_last1year       8971 non-null   float64\n",
      " 8   X4_last1year       8971 non-null   float64\n",
      " 9   X5_last1year       8971 non-null   float64\n",
      " 10  X6_last1year       8971 non-null   float64\n",
      " 11  X7_last1year       8971 non-null   float64\n",
      " 12  X8_last1year       8971 non-null   float64\n",
      " 13  X9_last1year       8971 non-null   float64\n",
      " 14  X10_last1year      8971 non-null   float64\n",
      " 15  X11_last1year      8971 non-null   float64\n",
      " 16  X12_last1year      8971 non-null   float64\n",
      " 17  X13_last1year      8971 non-null   float64\n",
      " 18  X14_last1year      8971 non-null   float64\n",
      " 19  X15_last1year      8971 non-null   float64\n",
      " 20  X16_last1year      8971 non-null   float64\n",
      " 21  X17_last1year      8971 non-null   float64\n",
      " 22  X18_last1year      8971 non-null   float64\n",
      " 23  X1_last1year_ycr   8078 non-null   float64\n",
      " 24  X2_last1year_ycr   8078 non-null   float64\n",
      " 25  X3_last1year_ycr   8078 non-null   float64\n",
      " 26  X4_last1year_ycr   8078 non-null   float64\n",
      " 27  X5_last1year_ycr   8078 non-null   float64\n",
      " 28  X6_last1year_ycr   8078 non-null   float64\n",
      " 29  X7_last1year_ycr   8078 non-null   float64\n",
      " 30  X8_last1year_ycr   8078 non-null   float64\n",
      " 31  X9_last1year_ycr   8078 non-null   float64\n",
      " 32  X10_last1year_ycr  8078 non-null   float64\n",
      " 33  X11_last1year_ycr  8078 non-null   float64\n",
      " 34  X12_last1year_ycr  8078 non-null   float64\n",
      " 35  X13_last1year_ycr  8078 non-null   float64\n",
      " 36  X14_last1year_ycr  8078 non-null   float64\n",
      " 37  X15_last1year_ycr  8078 non-null   float64\n",
      " 38  X16_last1year_ycr  8078 non-null   float64\n",
      " 39  X17_last1year_ycr  8078 non-null   float64\n",
      " 40  X18_last1year_ycr  8078 non-null   float64\n",
      " 41  nyse_last1year     8971 non-null   float64\n",
      " 42  nasdaq_last1year   8971 non-null   float64\n",
      "dtypes: float64(39), int64(1), object(3)\n",
      "memory usage: 2.9+ MB\n"
     ]
    }
   ],
   "source": [
    "data.info()"
   ]
  },
  {
   "cell_type": "code",
   "execution_count": 3,
   "id": "cc4a5663-66c6-4f87-84bb-ff9ab875eba4",
   "metadata": {},
   "outputs": [
    {
     "name": "stderr",
     "output_type": "stream",
     "text": [
      "D:\\Anaconda\\lib\\site-packages\\scipy\\__init__.py:155: UserWarning: A NumPy version >=1.18.5 and <1.25.0 is required for this version of SciPy (detected version 1.26.4\n",
      "  warnings.warn(f\"A NumPy version >={np_minversion} and <{np_maxversion}\"\n"
     ]
    },
    {
     "name": "stdout",
     "output_type": "stream",
     "text": [
      "  company_name status_label Division  MajorGroup  last_year  X1_last1year  \\\n",
      "0          C_1        alive        D          37     2017.0         942.7   \n",
      "1          C_2        alive        D          36     2010.0        1107.7   \n",
      "2          C_3        alive        D          38     2008.0       12686.0   \n",
      "3          C_4        alive        D          28     2007.0      581502.0   \n",
      "4          C_5        alive        D          35     1999.0       28957.0   \n",
      "\n",
      "   X2_last1year  X3_last1year  X4_last1year  X5_last1year  ...  \\\n",
      "0       1524.70       1413.20         177.2          40.5  ...   \n",
      "1       1474.50        677.20         650.8          61.5  ...   \n",
      "2      21401.00      19334.00          23.0        1686.0  ...   \n",
      "3    1288165.00        267.81         300.0       46338.0  ...   \n",
      "4         42.21      79567.00         591.0        2024.0  ...   \n",
      "\n",
      "   X15_last1year_ycr  X16_last1year_ycr  X17_last1year_ycr  X18_last1year_ycr  \\\n",
      "0        1291.527514          -0.002543          -0.010919           0.001482   \n",
      "1        1527.620582           0.053372           0.160429           0.135088   \n",
      "2          -0.835295           0.400781           0.193593           0.269244   \n",
      "3          -0.150418        2739.789215           0.104916          -0.998676   \n",
      "4                NaN                NaN                NaN                NaN   \n",
      "\n",
      "   nyse_last1year  nasdaq_last1year  company_name_encoded  Division_encoded  \\\n",
      "0    11912.848307       6293.024211                     0                 3   \n",
      "1     7166.229940       2333.908345                  1111                 3   \n",
      "2     8001.502441       2148.948334                  2222                 3   \n",
      "3     9685.001790       2587.587504                  3333                 3   \n",
      "4     6549.827474       2787.559998                  4444                 3   \n",
      "\n",
      "   MajorGroup_encoded  status_label_encoded  \n",
      "0                  29                     0  \n",
      "1                  28                     0  \n",
      "2                  30                     0  \n",
      "3                  20                     0  \n",
      "4                  27                     0  \n",
      "\n",
      "[5 rows x 47 columns]\n"
     ]
    }
   ],
   "source": [
    "# Encoding non-numeric columns\n",
    "\n",
    "from sklearn.preprocessing import LabelEncoder\n",
    "\n",
    "# Initialize LabelEncoder object\n",
    "label_encoder = LabelEncoder()\n",
    "\n",
    "\n",
    "# Label-encode the company_name column\n",
    "data['company_name_encoded'] = label_encoder.fit_transform(data['company_name'])\n",
    "\n",
    "\n",
    "# Label-encode the Division column\n",
    "data['Division_encoded'] = label_encoder.fit_transform(data['Division'])\n",
    "\n",
    "# Label-encode MajorGroup columns\n",
    "data['MajorGroup_encoded'] = label_encoder.fit_transform(data['MajorGroup'])\n",
    "#When using label encoding for feature encoding, the sequential relationship between categories will not be introduced and will not have an impact on prediction.\n",
    "\n",
    "# Encode the label of the status_label column\n",
    "data['status_label_encoded'] = label_encoder.fit_transform(data['status_label'])\n",
    "#With only two categories, it may be simpler and more appropriate to use label encoding as it maps the categories to 0 and 1, suitable for use in tree-based models. \n",
    "#If use one-hot encoding, a new column will be generated\n",
    "\n",
    "print(data.head())\n"
   ]
  },
  {
   "cell_type": "code",
   "execution_count": 4,
   "id": "b1f286d3-0047-4da4-90dc-dd63a2e84a66",
   "metadata": {},
   "outputs": [
    {
     "name": "stdout",
     "output_type": "stream",
     "text": [
      "<class 'pandas.core.frame.DataFrame'>\n",
      "RangeIndex: 8971 entries, 0 to 8970\n",
      "Data columns (total 47 columns):\n",
      " #   Column                Non-Null Count  Dtype  \n",
      "---  ------                --------------  -----  \n",
      " 0   company_name          8971 non-null   object \n",
      " 1   status_label          8971 non-null   object \n",
      " 2   Division              8971 non-null   object \n",
      " 3   MajorGroup            8971 non-null   int64  \n",
      " 4   last_year             8971 non-null   float64\n",
      " 5   X1_last1year          8971 non-null   float64\n",
      " 6   X2_last1year          8971 non-null   float64\n",
      " 7   X3_last1year          8971 non-null   float64\n",
      " 8   X4_last1year          8971 non-null   float64\n",
      " 9   X5_last1year          8971 non-null   float64\n",
      " 10  X6_last1year          8971 non-null   float64\n",
      " 11  X7_last1year          8971 non-null   float64\n",
      " 12  X8_last1year          8971 non-null   float64\n",
      " 13  X9_last1year          8971 non-null   float64\n",
      " 14  X10_last1year         8971 non-null   float64\n",
      " 15  X11_last1year         8971 non-null   float64\n",
      " 16  X12_last1year         8971 non-null   float64\n",
      " 17  X13_last1year         8971 non-null   float64\n",
      " 18  X14_last1year         8971 non-null   float64\n",
      " 19  X15_last1year         8971 non-null   float64\n",
      " 20  X16_last1year         8971 non-null   float64\n",
      " 21  X17_last1year         8971 non-null   float64\n",
      " 22  X18_last1year         8971 non-null   float64\n",
      " 23  X1_last1year_ycr      8078 non-null   float64\n",
      " 24  X2_last1year_ycr      8078 non-null   float64\n",
      " 25  X3_last1year_ycr      8078 non-null   float64\n",
      " 26  X4_last1year_ycr      8078 non-null   float64\n",
      " 27  X5_last1year_ycr      8078 non-null   float64\n",
      " 28  X6_last1year_ycr      8078 non-null   float64\n",
      " 29  X7_last1year_ycr      8078 non-null   float64\n",
      " 30  X8_last1year_ycr      8078 non-null   float64\n",
      " 31  X9_last1year_ycr      8078 non-null   float64\n",
      " 32  X10_last1year_ycr     8078 non-null   float64\n",
      " 33  X11_last1year_ycr     8078 non-null   float64\n",
      " 34  X12_last1year_ycr     8078 non-null   float64\n",
      " 35  X13_last1year_ycr     8078 non-null   float64\n",
      " 36  X14_last1year_ycr     8078 non-null   float64\n",
      " 37  X15_last1year_ycr     8078 non-null   float64\n",
      " 38  X16_last1year_ycr     8078 non-null   float64\n",
      " 39  X17_last1year_ycr     8078 non-null   float64\n",
      " 40  X18_last1year_ycr     8078 non-null   float64\n",
      " 41  nyse_last1year        8971 non-null   float64\n",
      " 42  nasdaq_last1year      8971 non-null   float64\n",
      " 43  company_name_encoded  8971 non-null   int32  \n",
      " 44  Division_encoded      8971 non-null   int32  \n",
      " 45  MajorGroup_encoded    8971 non-null   int64  \n",
      " 46  status_label_encoded  8971 non-null   int32  \n",
      "dtypes: float64(39), int32(3), int64(2), object(3)\n",
      "memory usage: 3.1+ MB\n"
     ]
    }
   ],
   "source": [
    "data.info()"
   ]
  },
  {
   "cell_type": "code",
   "execution_count": 5,
   "id": "374fe89d-42d2-472f-8724-dcc6f06dff33",
   "metadata": {},
   "outputs": [
    {
     "data": {
      "text/plain": [
       "(8971, 47)"
      ]
     },
     "execution_count": 5,
     "metadata": {},
     "output_type": "execute_result"
    }
   ],
   "source": [
    "data.shape"
   ]
  },
  {
   "cell_type": "code",
   "execution_count": 6,
   "id": "11b45588-522a-4d3c-8509-9749f7d3c4d5",
   "metadata": {},
   "outputs": [
    {
     "name": "stdout",
     "output_type": "stream",
     "text": [
      "Number of unique values in 'company_name_encoded' column: 8971\n",
      "Number of unique values in 'status_label_encoded' column: 2\n",
      "Number of unique values in 'Division_encoded' column: 10\n",
      "Number of unique values in 'MajorGroup_encoded' column: 73\n"
     ]
    }
   ],
   "source": [
    "unique_company_names = data['company_name_encoded'].nunique()\n",
    "unique_status_labels = data['status_label_encoded'].nunique()\n",
    "unique_divisions = data['Division_encoded'].nunique()\n",
    "unique_majorgroup = data['MajorGroup_encoded'].nunique()\n",
    "\n",
    "print(\"Number of unique values in 'company_name_encoded' column:\", unique_company_names)\n",
    "print(\"Number of unique values in 'status_label_encoded' column:\", unique_status_labels)\n",
    "print(\"Number of unique values in 'Division_encoded' column:\", unique_divisions)\n",
    "print(\"Number of unique values in 'MajorGroup_encoded' column:\", unique_majorgroup)\n"
   ]
  },
  {
   "cell_type": "code",
   "execution_count": 7,
   "id": "e1abf0ae-6966-43bc-a652-7523ee634cb3",
   "metadata": {},
   "outputs": [
    {
     "name": "stdout",
     "output_type": "stream",
     "text": [
      "Unique values in 'Division_encoded' column: [3 4 2 8 5 6 1 0 7 9]\n"
     ]
    }
   ],
   "source": [
    "unique_divisions = data['Division_encoded'].unique()\n",
    "print(\"Unique values in 'Division_encoded' column:\", unique_divisions)\n"
   ]
  },
  {
   "cell_type": "code",
   "execution_count": 8,
   "id": "381247f3-2cdf-4adf-b51a-e16ec84e1347",
   "metadata": {},
   "outputs": [
    {
     "name": "stdout",
     "output_type": "stream",
     "text": [
      "Number of rows with missing values: 893\n"
     ]
    }
   ],
   "source": [
    "missing_rows_count = data.isnull().any(axis=1).sum()\n",
    "print(\"Number of rows with missing values:\", missing_rows_count)\n"
   ]
  },
  {
   "cell_type": "code",
   "execution_count": 9,
   "id": "b98d5d1a-22e0-4ee6-8fc9-f156a2a97b46",
   "metadata": {},
   "outputs": [
    {
     "data": {
      "text/plain": [
       "(8078, 19)"
      ]
     },
     "execution_count": 9,
     "metadata": {},
     "output_type": "execute_result"
    }
   ],
   "source": [
    "# Delete rows with missing values\n",
    "data_cleaned = data.dropna()\n",
    "# Delete non-numeric columns that are not encoded\n",
    "columns_to_drop = [\n",
    "    'company_name', 'status_label', 'Division', 'MajorGroup', 'last_year', 'company_name_encoded',\n",
    "    'nyse_last1year', 'nasdaq_last1year', 'Division_encoded', 'MajorGroup_encoded'\n",
    "]\n",
    "\n",
    "# Add X1_last1year_ycr to X18_last1year_ycr columns to the list\n",
    "columns_to_drop.extend([f'X{i}_last1year_ycr' for i in range(1, 19)])\n",
    "\n",
    "data_cleaned = data_cleaned.drop(columns=columns_to_drop)\n",
    "\n",
    "data_cleaned.shape\n"
   ]
  },
  {
   "cell_type": "code",
   "execution_count": 10,
   "id": "22f1ba13-272c-4957-96db-dd37c4602510",
   "metadata": {},
   "outputs": [
    {
     "data": {
      "text/plain": [
       "<bound method NDFrame.head of       X1_last1year  X2_last1year  X3_last1year  X4_last1year  X5_last1year  \\\n",
       "0            942.7       1524.70       1413.20         177.2        40.500   \n",
       "1           1107.7       1474.50        677.20         650.8        61.500   \n",
       "2          12686.0      21401.00      19334.00          23.0      1686.000   \n",
       "3         581502.0    1288165.00        267.81         300.0     46338.000   \n",
       "5           6838.0      25088.00      18138.00        9253.0       995.000   \n",
       "...            ...           ...           ...           ...           ...   \n",
       "8966       10566.0      28278.00      31288.00        8497.0      1200.000   \n",
       "8967        3369.0       3466.00        208.00           0.0        57.000   \n",
       "8968        2482.2       9401.50        966.70        5350.7       156.600   \n",
       "8969         931.6       2810.20       1475.90        1409.5        82.500   \n",
       "8970       82589.0       1625.37      68817.00      632122.0        65.201   \n",
       "\n",
       "      X6_last1year  X7_last1year  X8_last1year  X9_last1year  X10_last1year  \\\n",
       "0             86.0         126.5         335.1        547.90          333.3   \n",
       "1             59.9         121.4         479.4        106.40          288.7   \n",
       "2          -4407.0       -2721.0       14946.0          6.95        16483.0   \n",
       "3          -5522.0       40816.0      454615.0     125963.00       198375.0   \n",
       "5            308.0        1303.0        4032.0        594.00         8780.0   \n",
       "...            ...           ...           ...           ...            ...   \n",
       "8966        5345.0        6545.0        7716.0       4515.00         5513.0   \n",
       "8967      -10704.0      -10647.0        -155.0          0.00         7152.0   \n",
       "8968         256.1         412.7         994.3        188.10         1142.5   \n",
       "8969         536.5         619.0        1255.8        280.30          520.8   \n",
       "8970        2061.0       67262.0       91696.0       2112.00        79365.0   \n",
       "\n",
       "      X11_last1year  X12_last1year  X13_last1year  X14_last1year  \\\n",
       "0            15.600          701.2         203.00        1748.30   \n",
       "1            62.000         -918.4         252.50        1156.60   \n",
       "2        -11049.000       -21447.0        4282.00          34.28   \n",
       "3        -13581.000       -95949.0      130246.00      722425.00   \n",
       "5          -471.000        -8362.0         738.00       22170.00   \n",
       "...             ...            ...            ...            ...   \n",
       "8966       4688.000         5400.0        4434.00       39004.00   \n",
       "8967        -10.890      -259121.0           0.04          53.00   \n",
       "8968       -324.400        -1952.3         382.40        1961.00   \n",
       "8969        434.900          650.1         340.30        2731.70   \n",
       "8970        -50.946        84995.0       45839.00      160513.00   \n",
       "\n",
       "      X15_last1year  X16_last1year  X17_last1year  X18_last1year  \\\n",
       "0      1.551458e+06          588.4        1748.30       1621.800   \n",
       "1      1.231524e+06         1040.1        1156.60       1035.200   \n",
       "2      5.020100e+00        17224.0          34.28      37001.000   \n",
       "3      8.824491e+02       557038.0      722425.00        681.609   \n",
       "5      2.597575e+03        29033.0       22170.00      20867.000   \n",
       "...             ...            ...            ...            ...   \n",
       "8966   3.124296e+04        17882.0       39004.00      32459.000   \n",
       "8967   2.231000e-01         7181.0          53.00         10.700   \n",
       "8968   2.985101e+03         7220.4        1961.00       1548.300   \n",
       "8969   7.543515e+03         2156.2        2731.70       2112.700   \n",
       "8970   3.541786e+02       712687.0      160513.00      93251.000   \n",
       "\n",
       "      status_label_encoded  \n",
       "0                        0  \n",
       "1                        0  \n",
       "2                        0  \n",
       "3                        0  \n",
       "5                        1  \n",
       "...                    ...  \n",
       "8966                     0  \n",
       "8967                     0  \n",
       "8968                     0  \n",
       "8969                     0  \n",
       "8970                     0  \n",
       "\n",
       "[8078 rows x 19 columns]>"
      ]
     },
     "execution_count": 10,
     "metadata": {},
     "output_type": "execute_result"
    }
   ],
   "source": [
    "data_cleaned.head"
   ]
  },
  {
   "cell_type": "code",
   "execution_count": 11,
   "id": "89dd5f1e-dc82-4769-b937-5bb68e3d9f31",
   "metadata": {},
   "outputs": [
    {
     "name": "stdout",
     "output_type": "stream",
     "text": [
      "0    7484\n",
      "1     594\n",
      "Name: status_label_encoded, dtype: int64\n"
     ]
    }
   ],
   "source": [
    "status_counts = data_cleaned['status_label_encoded'].value_counts()\n",
    "print(status_counts)\n"
   ]
  },
  {
   "cell_type": "markdown",
   "id": "6a330463-b2f8-4aa1-85a6-f2ad40621a69",
   "metadata": {},
   "source": [
    "### 1. RF"
   ]
  },
  {
   "cell_type": "code",
   "execution_count": 12,
   "id": "8f159c74-a2f6-46b8-b156-d9db13dd3a57",
   "metadata": {},
   "outputs": [],
   "source": [
    "#the impact of imbalanced datasets\n"
   ]
  },
  {
   "cell_type": "markdown",
   "id": "317d5616-60a7-4288-b8a2-6630bd5fbe7d",
   "metadata": {},
   "source": [
    "#### 1.1 imbalance dataset + CV"
   ]
  },
  {
   "cell_type": "code",
   "execution_count": 13,
   "id": "90fff82c-02bc-4660-86fb-87d2b8ed60f3",
   "metadata": {},
   "outputs": [
    {
     "name": "stdout",
     "output_type": "stream",
     "text": [
      "Validation Accuracy: 0.932549504950495\n",
      "Cross-validation Scores: [0.92652746 0.92962104 0.92956656 0.92569659 0.93266254]\n",
      "Mean CV Accuracy: 0.9288148376947556\n",
      "Test Accuracy: 0.9257425742574258\n"
     ]
    }
   ],
   "source": [
    "from sklearn.model_selection import train_test_split, cross_val_score\n",
    "from sklearn.ensemble import RandomForestClassifier\n",
    "from sklearn.metrics import accuracy_score\n",
    "\n",
    "# Split the dataset into features and labels\n",
    "X = data_cleaned.drop('status_label_encoded', axis=1)\n",
    "y = data_cleaned['status_label_encoded']\n",
    "\n",
    "# Split the data set into training set, validation set and test set\n",
    "X_train_val, X_test, y_train_val, y_test = train_test_split(X, y, test_size=0.2, random_state=42)\n",
    "X_train, X_val, y_train, y_val = train_test_split(X_train_val, y_train_val, test_size=0.25, random_state=42)  # 80% training, 20% validation\n",
    "\n",
    "# Define a random forest classifier\n",
    "rf_classifier = RandomForestClassifier(n_estimators=100, random_state=42)\n",
    "# Train the model on the training set\n",
    "rf_classifier.fit(X_train, y_train)\n",
    "\n",
    "# Make predictions on the validation set\n",
    "val_predictions = rf_classifier.predict(X_val)\n",
    "# Calculate accuracy on validation set\n",
    "val_accuracy = accuracy_score(y_val, val_predictions)\n",
    "print(\"Validation Accuracy:\", val_accuracy)\n",
    "\n",
    "# Perform cross-validation on the training set\n",
    "cv_scores = cross_val_score(rf_classifier, X_train_val, y_train_val, cv=5)\n",
    "# Print cross-validation scores\n",
    "print(\"Cross-validation Scores:\", cv_scores)\n",
    "print(\"Mean CV Accuracy:\", cv_scores.mean())\n",
    "# Retrain the model on the entire training set\n",
    "\n",
    "\n",
    "# Make predictions on the test set\n",
    "test_predictions = rf_classifier.predict(X_test)\n",
    "# Calculate accuracy on test set\n",
    "test_accuracy = accuracy_score(y_test, test_predictions)\n",
    "print(\"Test Accuracy:\", test_accuracy)\n"
   ]
  },
  {
   "cell_type": "code",
   "execution_count": 14,
   "id": "ef9d866c-bd00-40bf-9b07-b63d8c2b2bd4",
   "metadata": {},
   "outputs": [
    {
     "name": "stdout",
     "output_type": "stream",
     "text": [
      "Accuracy: 0.9257425742574258\n",
      "Precision: 0.8333333333333334\n",
      "Recall: 0.04032258064516129\n",
      "F1 Score: 0.07692307692307691\n",
      "Micro F1 Score: 0.9257425742574258\n",
      "Macro F1 Score: 0.5191191786936468\n",
      "ROC AUC: 0.7922441191732249\n",
      "Confusion Matrix:\n",
      "[[1491    1]\n",
      " [ 119    5]]\n"
     ]
    }
   ],
   "source": [
    "from sklearn.metrics import accuracy_score, precision_score, recall_score, f1_score, roc_auc_score, precision_recall_curve, roc_curve, confusion_matrix\n",
    "\n",
    "# Calculate accuracy\n",
    "accuracy = accuracy_score(y_test, test_predictions)\n",
    "print(\"Accuracy:\", accuracy)\n",
    "\n",
    "# Calculation precision\n",
    "precision = precision_score(y_test, test_predictions)\n",
    "print(\"Precision:\", precision)\n",
    "\n",
    "# Calculate recall\n",
    "recall = recall_score(y_test, test_predictions)\n",
    "print(\"Recall:\", recall)\n",
    "\n",
    "# Calculate F1 score\n",
    "f1 = f1_score(y_test, test_predictions)\n",
    "print(\"F1 Score:\", f1)\n",
    "\n",
    "# Calculate micro F1 score\n",
    "micro_f1 = f1_score(y_test, test_predictions, average='micro')\n",
    "print(\"Micro F1 Score:\", micro_f1)\n",
    "\n",
    "# Calculate macro F1 score\n",
    "macro_f1 = f1_score(y_test, test_predictions, average='macro')\n",
    "print(\"Macro F1 Score:\", macro_f1)\n",
    "\n",
    "# Calculate ROC AUC\n",
    "y_prob = rf_classifier.predict_proba(X_test)[:, 1]\n",
    "roc_auc = roc_auc_score(y_test, y_prob)\n",
    "print(\"ROC AUC:\", roc_auc)\n",
    "\n",
    "# Calculate confusion matrix\n",
    "conf_matrix = confusion_matrix(y_test, test_predictions)\n",
    "print(\"Confusion Matrix:\")\n",
    "print(conf_matrix)\n"
   ]
  },
  {
   "cell_type": "code",
   "execution_count": null,
   "id": "9228af36-d91a-44b9-ba3c-a77f93a903ae",
   "metadata": {},
   "outputs": [],
   "source": []
  },
  {
   "cell_type": "markdown",
   "id": "80fd8821-7338-45dc-a3e0-949fefa793bc",
   "metadata": {},
   "source": [
    "### 2. XGBOOST"
   ]
  },
  {
   "cell_type": "code",
   "execution_count": 15,
   "id": "ca37366c-2d39-4c57-9288-5724a2d0fe97",
   "metadata": {},
   "outputs": [],
   "source": [
    "#2.1 imbalance\n"
   ]
  },
  {
   "cell_type": "code",
   "execution_count": 16,
   "id": "775f5465-3caa-4d00-908a-bdff4eecaab1",
   "metadata": {},
   "outputs": [
    {
     "name": "stdout",
     "output_type": "stream",
     "text": [
      "[0]\ttrain-logloss:0.27820\teval-logloss:0.28110\n",
      "[1]\ttrain-logloss:0.26592\teval-logloss:0.27563\n",
      "[2]\ttrain-logloss:0.25395\teval-logloss:0.27036\n",
      "[3]\ttrain-logloss:0.24291\teval-logloss:0.26556\n",
      "[4]\ttrain-logloss:0.23260\teval-logloss:0.25995\n",
      "[5]\ttrain-logloss:0.22349\teval-logloss:0.25610\n",
      "[6]\ttrain-logloss:0.21458\teval-logloss:0.25287\n",
      "[7]\ttrain-logloss:0.20599\teval-logloss:0.24943\n",
      "[8]\ttrain-logloss:0.19807\teval-logloss:0.24567\n",
      "[9]\ttrain-logloss:0.19030\teval-logloss:0.24260\n",
      "[10]\ttrain-logloss:0.18330\teval-logloss:0.24024\n",
      "[11]\ttrain-logloss:0.17636\teval-logloss:0.23758\n",
      "[12]\ttrain-logloss:0.16986\teval-logloss:0.23504\n",
      "[13]\ttrain-logloss:0.16373\teval-logloss:0.23309\n",
      "[14]\ttrain-logloss:0.15811\teval-logloss:0.23189\n",
      "[15]\ttrain-logloss:0.15263\teval-logloss:0.23021\n",
      "[16]\ttrain-logloss:0.14761\teval-logloss:0.22839\n",
      "[17]\ttrain-logloss:0.14287\teval-logloss:0.22679\n",
      "[18]\ttrain-logloss:0.13802\teval-logloss:0.22604\n",
      "[19]\ttrain-logloss:0.13356\teval-logloss:0.22484\n",
      "[20]\ttrain-logloss:0.12918\teval-logloss:0.22413\n",
      "[21]\ttrain-logloss:0.12495\teval-logloss:0.22327\n",
      "[22]\ttrain-logloss:0.12116\teval-logloss:0.22242\n",
      "[23]\ttrain-logloss:0.11751\teval-logloss:0.22124\n",
      "[24]\ttrain-logloss:0.11390\teval-logloss:0.22085\n",
      "[25]\ttrain-logloss:0.11061\teval-logloss:0.22063\n",
      "[26]\ttrain-logloss:0.10746\teval-logloss:0.22046\n",
      "[27]\ttrain-logloss:0.10416\teval-logloss:0.21994\n",
      "[28]\ttrain-logloss:0.10108\teval-logloss:0.21966\n",
      "[29]\ttrain-logloss:0.09823\teval-logloss:0.21945\n",
      "[30]\ttrain-logloss:0.09546\teval-logloss:0.21954\n",
      "[31]\ttrain-logloss:0.09275\teval-logloss:0.21962\n",
      "[32]\ttrain-logloss:0.09003\teval-logloss:0.21918\n",
      "[33]\ttrain-logloss:0.08752\teval-logloss:0.21896\n",
      "[34]\ttrain-logloss:0.08524\teval-logloss:0.21841\n",
      "[35]\ttrain-logloss:0.08297\teval-logloss:0.21864\n",
      "[36]\ttrain-logloss:0.08079\teval-logloss:0.21867\n",
      "[37]\ttrain-logloss:0.07858\teval-logloss:0.21867\n",
      "[38]\ttrain-logloss:0.07656\teval-logloss:0.21901\n",
      "[39]\ttrain-logloss:0.07462\teval-logloss:0.21896\n",
      "[40]\ttrain-logloss:0.07286\teval-logloss:0.21944\n",
      "[41]\ttrain-logloss:0.07108\teval-logloss:0.21950\n",
      "[42]\ttrain-logloss:0.06930\teval-logloss:0.21988\n",
      "[43]\ttrain-logloss:0.06764\teval-logloss:0.22009\n",
      "Test Accuracy: 0.9257425742574258\n"
     ]
    }
   ],
   "source": [
    "from imblearn.over_sampling import SMOTE\n",
    "from sklearn.model_selection import train_test_split\n",
    "from sklearn.metrics import accuracy_score\n",
    "import xgboost as xgb\n",
    "import pandas as pd\n",
    "\n",
    "# Split the dataset into features and labels\n",
    "X = data_cleaned.drop('status_label_encoded', axis=1)\n",
    "y = data_cleaned['status_label_encoded']\n",
    "\n",
    "# Split the data into training + validation and testing sets\n",
    "X_train_val, X_test, y_train_val, y_test = train_test_split(X, y, test_size=0.2, random_state=42)\n",
    "# Further split the training + validation set into training and validation sets\n",
    "X_train, X_val, y_train, y_val = train_test_split(X_train_val, y_train_val, test_size=0.25, random_state=42)\n",
    "\n",
    "\n",
    "# Convert data to DMatrix format for XGBoost\n",
    "dtrain = xgb.DMatrix(X_train, label=y_train)\n",
    "dval = xgb.DMatrix(X_val, label=y_val)\n",
    "dtest = xgb.DMatrix(X_test, label=y_test)\n",
    "\n",
    "params = {\n",
    "    'objective': 'binary:logistic',  # Binary classification\n",
    "    'eval_metric': 'logloss',         # Logarithmic loss\n",
    "    'eta': 0.07,                       # Learning rate\n",
    "    'max_depth': 60,                   # Maximum depth of the tree\n",
    "    'subsample': 0.9,                 # Subsample ratio of the training instances\n",
    "    'colsample_bytree': 0.9,          # Subsample ratio of columns when constructing each tree\n",
    "    'lambda': 1,                      # L2 regularization term (default is 1)\n",
    "    'alpha': 0,                       # L1 regularization term (default is 0)\n",
    "    'seed': 42                        # Random seed\n",
    "}\n",
    "\n",
    "# Train XGBoost model\n",
    "num_rounds = 100\n",
    "watchlist = [(dtrain, 'train'), (dval, 'eval')]\n",
    "xgb_model = xgb.train(params, dtrain, num_rounds, evals=watchlist, early_stopping_rounds=10)\n",
    "\n",
    "# Make predictions on the test set\n",
    "test_predictions_proba = xgb_model.predict(dtest)\n",
    "test_predictions = [1 if x > 0.5 else 0 for x in test_predictions_proba]\n",
    "\n",
    "# Calculate accuracy on test set\n",
    "test_accuracy = accuracy_score(y_test, test_predictions)\n",
    "print(\"Test Accuracy:\", test_accuracy)\n"
   ]
  },
  {
   "cell_type": "code",
   "execution_count": 17,
   "id": "0b2d1469-e2c3-4039-b7cb-448d7139d0b1",
   "metadata": {},
   "outputs": [
    {
     "name": "stdout",
     "output_type": "stream",
     "text": [
      "Accuracy: 0.9257425742574258\n",
      "Precision: 0.6666666666666666\n",
      "Recall: 0.06451612903225806\n",
      "F1 Score: 0.1176470588235294\n",
      "Micro F1 Score: 0.9257425742574258\n",
      "Macro F1 Score: 0.5394436844505244\n",
      "ROC AUC: 0.8074407593185159\n",
      "Confusion Matrix:\n",
      "[[1488    4]\n",
      " [ 116    8]]\n"
     ]
    }
   ],
   "source": [
    "from sklearn.metrics import accuracy_score, precision_score, recall_score, f1_score, roc_auc_score, confusion_matrix\n",
    "\n",
    "# Calculate accuracy\n",
    "accuracy = accuracy_score(y_test, test_predictions)\n",
    "print(\"Accuracy:\", accuracy)\n",
    "\n",
    "# Calculate precision\n",
    "precision = precision_score(y_test, test_predictions)\n",
    "print(\"Precision:\", precision)\n",
    "\n",
    "# Calculate recall\n",
    "recall = recall_score(y_test, test_predictions)\n",
    "print(\"Recall:\", recall)\n",
    "\n",
    "# Calculate F1 score\n",
    "f1 = f1_score(y_test, test_predictions)\n",
    "print(\"F1 Score:\", f1)\n",
    "\n",
    "# Calculate micro F1 score\n",
    "micro_f1 = f1_score(y_test, test_predictions, average='micro')\n",
    "print(\"Micro F1 Score:\", micro_f1)\n",
    "\n",
    "# Calculate macro F1 score\n",
    "macro_f1 = f1_score(y_test, test_predictions, average='macro')\n",
    "print(\"Macro F1 Score:\", macro_f1)\n",
    "\n",
    "# Calculate ROC AUC\n",
    "roc_auc = roc_auc_score(y_test, test_predictions_proba)\n",
    "print(\"ROC AUC:\", roc_auc)\n",
    "\n",
    "# Calculate confusion matrix\n",
    "conf_matrix = confusion_matrix(y_test, test_predictions)\n",
    "print(\"Confusion Matrix:\")\n",
    "print(conf_matrix)\n"
   ]
  },
  {
   "cell_type": "markdown",
   "id": "df4285d6-d191-459f-82e5-af2d11884f3f",
   "metadata": {
    "tags": []
   },
   "source": [
    "### 3. GB\n"
   ]
  },
  {
   "cell_type": "code",
   "execution_count": 18,
   "id": "59a6df05-e8a0-4152-8526-eabb0e804e00",
   "metadata": {},
   "outputs": [],
   "source": [
    "#imbalance+cv"
   ]
  },
  {
   "cell_type": "code",
   "execution_count": 19,
   "id": "8f705495-0cf3-4d0c-891d-ccd5586d0ba8",
   "metadata": {},
   "outputs": [
    {
     "name": "stdout",
     "output_type": "stream",
     "text": [
      "Validation Accuracy: 0.9275990099009901\n",
      "Cross-validation Scores: [0.92188708 0.92498067 0.92801858 0.92647059 0.92879257]\n",
      "Mean CV Accuracy: 0.9260298966332167\n",
      "Test Accuracy: 0.9232673267326733\n"
     ]
    }
   ],
   "source": [
    "from sklearn.model_selection import train_test_split, cross_val_score\n",
    "from sklearn.metrics import accuracy_score\n",
    "from sklearn.ensemble import GradientBoostingClassifier\n",
    "from sklearn.tree import DecisionTreeClassifier\n",
    "import pandas as pd\n",
    "\n",
    "# Split the dataset into features and labels\n",
    "X = data_cleaned.drop('status_label_encoded', axis=1)\n",
    "y = data_cleaned['status_label_encoded']\n",
    "\n",
    "# Split the data into training + validation and testing sets\n",
    "X_train_val, X_test, y_train_val, y_test = train_test_split(X, y, test_size=0.2, random_state=42)\n",
    "# Further split the training + validation set into training and validation sets\n",
    "X_train, X_val, y_train, y_val = train_test_split(X_train_val, y_train_val, test_size=0.25, random_state=42)\n",
    "\n",
    "# Define a Gradient Boosting classifier\n",
    "gb_classifier = GradientBoostingClassifier(n_estimators=100, max_depth=10, random_state=42)\n",
    "\n",
    "# Train Gradient Boosting model\n",
    "gb_classifier.fit(X_train, y_train)\n",
    "\n",
    "# Make predictions on the validation set\n",
    "val_predictions = gb_classifier.predict(X_val)\n",
    "# Calculate accuracy on validation set\n",
    "val_accuracy = accuracy_score(y_val, val_predictions)\n",
    "print(\"Validation Accuracy:\", val_accuracy)\n",
    "\n",
    "# Perform cross-validation on the train_val set\n",
    "cv_scores = cross_val_score(gb_classifier, X_train_val, y_train_val, cv=5)\n",
    "# Print cross-validat ion scores\n",
    "print(\"Cross-validation Scores:\", cv_scores)\n",
    "print(\"Mean CV Accuracy:\", cv_scores.mean())\n",
    "\n",
    "\n",
    "# Make predictions on the test set\n",
    "test_predictions = gb_classifier.predict(X_test)\n",
    "# Calculate accuracy on test set\n",
    "test_accuracy = accuracy_score(y_test, test_predictions)\n",
    "print(\"Test Accuracy:\", test_accuracy)\n"
   ]
  },
  {
   "cell_type": "code",
   "execution_count": 20,
   "id": "de63fad9-a98d-4af8-b0df-df411118d900",
   "metadata": {},
   "outputs": [
    {
     "name": "stdout",
     "output_type": "stream",
     "text": [
      "Micro F1 Score: 0.9232673267326733\n",
      "Macro F1 Score: 0.543315556771047\n",
      "Test Accuracy: 0.9232673267326733\n",
      "Precision: 0.5\n",
      "Recall: 0.07258064516129033\n",
      "F1 Score: 0.1267605633802817\n",
      "ROC AUC Score: 0.7914900977255038\n",
      "Confusion Matrix:\n",
      " [[1483    9]\n",
      " [ 115    9]]\n"
     ]
    }
   ],
   "source": [
    "from sklearn.metrics import precision_score, recall_score, f1_score, roc_auc_score, confusion_matrix\n",
    "\n",
    "# Calculate accuracy on test set\n",
    "test_accuracy = accuracy_score(y_test, test_predictions)\n",
    "\n",
    "# Calculate precision\n",
    "precision = precision_score(y_test, test_predictions)\n",
    "\n",
    "# Calculate recall\n",
    "recall = recall_score(y_test, test_predictions)\n",
    "\n",
    "# Calculate F1 score\n",
    "f1 = f1_score(y_test, test_predictions)\n",
    "\n",
    "# Calculate micro F1 score\n",
    "micro_f1 = f1_score(y_test, test_predictions, average='micro')\n",
    "print(\"Micro F1 Score:\", micro_f1)\n",
    "\n",
    "# Calculate macro F1 score\n",
    "macro_f1 = f1_score(y_test, test_predictions, average='macro')\n",
    "print(\"Macro F1 Score:\", macro_f1)\n",
    "\n",
    "# Calculate ROC AUC score\n",
    "test_predictions_proba = gb_classifier.predict_proba(X_test)[:, 1]  # Probabilities for positive class\n",
    "roc_auc = roc_auc_score(y_test, test_predictions_proba)\n",
    "\n",
    "# Calculate confusion matrix\n",
    "conf_matrix = confusion_matrix(y_test, test_predictions)\n",
    "\n",
    "print(\"Test Accuracy:\", test_accuracy)\n",
    "print(\"Precision:\", precision)\n",
    "print(\"Recall:\", recall)\n",
    "print(\"F1 Score:\", f1)\n",
    "print(\"ROC AUC Score:\", roc_auc)\n",
    "print(\"Confusion Matrix:\\n\", conf_matrix)\n"
   ]
  },
  {
   "cell_type": "markdown",
   "id": "fae3d2bb-3c16-4a4c-b420-d4e68d1a1d67",
   "metadata": {},
   "source": [
    "### 4. Bagging"
   ]
  },
  {
   "cell_type": "code",
   "execution_count": 21,
   "id": "76fec8a7-10c8-4b9e-acb9-a491bb6c1307",
   "metadata": {},
   "outputs": [],
   "source": [
    "# imbalanced + cv"
   ]
  },
  {
   "cell_type": "code",
   "execution_count": 22,
   "id": "b68ffc93-9a1e-4c8c-b462-54a154606896",
   "metadata": {},
   "outputs": [
    {
     "name": "stdout",
     "output_type": "stream",
     "text": [
      "Validation Accuracy: 0.9306930693069307\n",
      "Cross-validation Scores: [0.92807425 0.92730085 0.93034056 0.92956656 0.93111455]\n",
      "Mean CV Accuracy: 0.9292793537002051\n",
      "Test Accuracy: 0.9282178217821783\n"
     ]
    }
   ],
   "source": [
    "from sklearn.model_selection import train_test_split, cross_val_score\n",
    "from sklearn.ensemble import BaggingClassifier\n",
    "from xgboost import XGBClassifier\n",
    "from sklearn.metrics import accuracy_score\n",
    "\n",
    "# Split the dataset into features and labels\n",
    "X = data_cleaned.drop('status_label_encoded', axis=1)\n",
    "y = data_cleaned['status_label_encoded']\n",
    "\n",
    "# Split the data set into training set, validation set and test set\n",
    "X_train_val, X_test, y_train_val, y_test = train_test_split(X, y, test_size=0.2, random_state=42)\n",
    "X_train, X_val, y_train, y_val = train_test_split(X_train_val, y_train_val, test_size=0.25, random_state=42)  # 80% training, 20% validation\n",
    "\n",
    "# Define a XGBoost base estimator\n",
    "base_estimator = XGBClassifier(n_estimators=100, random_state=42)  #better than base_estimator=DecisionTreeClassifier\n",
    "# Define a bagging classifier\n",
    "bagging_classifier = BaggingClassifier(base_estimator=base_estimator, n_estimators=10, random_state=42)\n",
    "\n",
    "# Train the model on the training set\n",
    "bagging_classifier.fit(X_train, y_train)\n",
    "\n",
    "# Make predictions on the validation set\n",
    "val_predictions = bagging_classifier.predict(X_val)\n",
    "# Calculate accuracy on validation set\n",
    "val_accuracy = accuracy_score(y_val, val_predictions)\n",
    "print(\"Validation Accuracy:\", val_accuracy)\n",
    "\n",
    "# Perform cross-validation on the train_val set\n",
    "cv_scores = cross_val_score(bagging_classifier, X_train_val, y_train_val, cv=5)\n",
    "# Print cross-validation scores\n",
    "print(\"Cross-validation Scores:\", cv_scores)\n",
    "print(\"Mean CV Accuracy:\", cv_scores.mean())\n",
    "\n",
    "\n",
    "\n",
    "# Make predictions on the test set\n",
    "test_predictions = bagging_classifier.predict(X_test)\n",
    "# Calculate accuracy on test set\n",
    "test_accuracy = accuracy_score(y_test, test_predictions)\n",
    "print(\"Test Accuracy:\", test_accuracy)\n"
   ]
  },
  {
   "cell_type": "code",
   "execution_count": 23,
   "id": "2fa69893-48ae-4ddf-b419-679fb2d92cb5",
   "metadata": {},
   "outputs": [
    {
     "name": "stdout",
     "output_type": "stream",
     "text": [
      "Micro F1 Score: 0.9282178217821783\n",
      "Macro F1 Score: 0.5547955616355069\n",
      "Test Accuracy: 0.9282178217821783\n",
      "Precision: 0.8333333333333334\n",
      "Recall: 0.08064516129032258\n",
      "F1 Score: 0.14705882352941174\n",
      "ROC AUC Score: 0.8091379832223472\n",
      "Confusion Matrix:\n",
      " [[1490    2]\n",
      " [ 114   10]]\n"
     ]
    }
   ],
   "source": [
    "from sklearn.metrics import precision_score, recall_score, f1_score, roc_auc_score, confusion_matrix\n",
    "\n",
    "\n",
    "# Calculate accuracy on test set\n",
    "test_accuracy = accuracy_score(y_test, test_predictions)\n",
    "\n",
    "# Calculate precision\n",
    "precision = precision_score(y_test, test_predictions)\n",
    "\n",
    "# Calculate recall\n",
    "recall = recall_score(y_test, test_predictions)\n",
    "\n",
    "# Calculate F1 score\n",
    "f1 = f1_score(y_test, test_predictions)\n",
    "\n",
    "# Calculate micro F1 score\n",
    "micro_f1 = f1_score(y_test, test_predictions, average='micro')\n",
    "print(\"Micro F1 Score:\", micro_f1)\n",
    "\n",
    "# Calculate macro F1 score\n",
    "macro_f1 = f1_score(y_test, test_predictions, average='macro')\n",
    "print(\"Macro F1 Score:\", macro_f1)\n",
    "\n",
    "# Calculate ROC AUC score\n",
    "test_predictions_proba = bagging_classifier.predict_proba(X_test)[:, 1]  # Probabilities for positive class\n",
    "roc_auc = roc_auc_score(y_test, test_predictions_proba)\n",
    "\n",
    "# Calculate confusion matrix\n",
    "conf_matrix = confusion_matrix(y_test, test_predictions)\n",
    "\n",
    "print(\"Test Accuracy:\", test_accuracy)\n",
    "print(\"Precision:\", precision)\n",
    "print(\"Recall:\", recall)\n",
    "print(\"F1 Score:\", f1)\n",
    "print(\"ROC AUC Score:\", roc_auc)\n",
    "print(\"Confusion Matrix:\\n\", conf_matrix)\n"
   ]
  },
  {
   "cell_type": "code",
   "execution_count": null,
   "id": "0ce603e3-5411-43aa-b4f9-e4ce89eb0602",
   "metadata": {},
   "outputs": [],
   "source": []
  }
 ],
 "metadata": {
  "kernelspec": {
   "display_name": "Python 3 (ipykernel)",
   "language": "python",
   "name": "python3"
  },
  "language_info": {
   "codemirror_mode": {
    "name": "ipython",
    "version": 3
   },
   "file_extension": ".py",
   "mimetype": "text/x-python",
   "name": "python",
   "nbconvert_exporter": "python",
   "pygments_lexer": "ipython3",
   "version": "3.9.13"
  }
 },
 "nbformat": 4,
 "nbformat_minor": 5
}
