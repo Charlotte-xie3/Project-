{
 "cells": [
  {
   "cell_type": "code",
   "execution_count": null,
   "id": "d162b6bb-04be-41c3-94af-44ab59e6500d",
   "metadata": {},
   "outputs": [],
   "source": []
  },
  {
   "cell_type": "code",
   "execution_count": null,
   "id": "f00c0043-c7ca-4492-ad2f-cced9d6fae30",
   "metadata": {},
   "outputs": [],
   "source": []
  },
  {
   "cell_type": "code",
   "execution_count": 1,
   "id": "eb2e3631-6704-4cac-8a49-88743235ff8e",
   "metadata": {},
   "outputs": [
    {
     "name": "stdout",
     "output_type": "stream",
     "text": [
      "Number of unique values in 'company_name' column: 8971\n",
      "Number of unique values in 'status_label' column: 2\n",
      "Number of unique values in 'Division' column: 10\n",
      "Number of unique values in 'MajorGroup' column: 73\n",
      "Number of unique values in 'last_year' column: 20\n"
     ]
    }
   ],
   "source": [
    "import pandas as pd\n",
    "\n",
    "# Read the data set\n",
    "data = pd.read_csv(\"new_df_selected3_last3years_adjusted.csv\")\n",
    "\n",
    "unique_company_names = data['company_name'].nunique()\n",
    "unique_status_labels = data['status_label'].nunique()\n",
    "unique_divisions = data['Division'].nunique()\n",
    "unique_majorgroup = data['MajorGroup'].nunique()\n",
    "unique_last_year = data['last_year'].nunique()\n",
    "\n",
    "print(\"Number of unique values in 'company_name' column:\", unique_company_names)\n",
    "print(\"Number of unique values in 'status_label' column:\", unique_status_labels)\n",
    "print(\"Number of unique values in 'Division' column:\", unique_divisions)\n",
    "print(\"Number of unique values in 'MajorGroup' column:\", unique_majorgroup)\n",
    "print(\"Number of unique values in 'last_year' column:\", unique_last_year)\n",
    "\n"
   ]
  },
  {
   "cell_type": "code",
   "execution_count": null,
   "id": "263fa8e8-cf02-4f9e-a23d-74af29abb22c",
   "metadata": {},
   "outputs": [],
   "source": []
  },
  {
   "cell_type": "code",
   "execution_count": 2,
   "id": "0552208d-295c-4128-90b8-ed6e4d3a1494",
   "metadata": {},
   "outputs": [
    {
     "name": "stdout",
     "output_type": "stream",
     "text": [
      "<class 'pandas.core.frame.DataFrame'>\n",
      "RangeIndex: 8971 entries, 0 to 8970\n",
      "Columns: 119 entries, company_name to nasdaq_last3year\n",
      "dtypes: float64(115), int64(1), object(3)\n",
      "memory usage: 8.1+ MB\n"
     ]
    }
   ],
   "source": [
    "data.info()"
   ]
  },
  {
   "cell_type": "code",
   "execution_count": 3,
   "id": "cc4a5663-66c6-4f87-84bb-ff9ab875eba4",
   "metadata": {},
   "outputs": [
    {
     "name": "stderr",
     "output_type": "stream",
     "text": [
      "D:\\Anaconda\\lib\\site-packages\\scipy\\__init__.py:155: UserWarning: A NumPy version >=1.18.5 and <1.25.0 is required for this version of SciPy (detected version 1.26.4\n",
      "  warnings.warn(f\"A NumPy version >={np_minversion} and <{np_maxversion}\"\n"
     ]
    },
    {
     "name": "stdout",
     "output_type": "stream",
     "text": [
      "  company_name status_label Division  MajorGroup  last_year  X1_last1year  \\\n",
      "0          C_1        alive        D          37     2017.0         942.7   \n",
      "1          C_2        alive        D          36     2010.0        1107.7   \n",
      "2          C_3        alive        D          38     2008.0       12686.0   \n",
      "3          C_4        alive        D          28     2007.0      581502.0   \n",
      "4          C_5        alive        D          35     1999.0       28957.0   \n",
      "\n",
      "   X1_last2year  X1_last3year  X2_last1year  X2_last2year  ...  \\\n",
      "0         888.5         873.1       1524.70        1504.1  ...   \n",
      "1         900.2        1077.4       1474.50        1343.6  ...   \n",
      "2       13454.0       13582.0      21401.00       27171.0  ...   \n",
      "3      353541.0     1037047.0    1288165.00      927239.0  ...   \n",
      "4           NaN           NaN         42.21           NaN  ...   \n",
      "\n",
      "   nyse_last1year  nyse_last2year  nyse_last3year  nasdaq_last1year  \\\n",
      "0    11912.848307    10451.377523    10606.906738       6293.024211   \n",
      "1     7166.229940     6100.795776     8001.502441       2333.908345   \n",
      "2     8001.502441     9685.001790     8434.441610       2148.948334   \n",
      "3     9685.001790     8434.441610     7364.758301       2587.587504   \n",
      "4     6549.827474             NaN             NaN       2787.559998   \n",
      "\n",
      "   nasdaq_last2year  nasdaq_last3year  company_name_encoded  Division_encoded  \\\n",
      "0       5015.926717       4932.729126                     0                 3   \n",
      "1       1856.529999       2148.948334                  1111                 3   \n",
      "2       2587.587504       2278.996664                  2222                 3   \n",
      "3       2278.996664       2100.603343                  3333                 3   \n",
      "4               NaN               NaN                  4444                 3   \n",
      "\n",
      "   MajorGroup_encoded  status_label_encoded  \n",
      "0                  29                     0  \n",
      "1                  28                     0  \n",
      "2                  30                     0  \n",
      "3                  20                     0  \n",
      "4                  27                     0  \n",
      "\n",
      "[5 rows x 123 columns]\n"
     ]
    }
   ],
   "source": [
    "# Encoding non-numeric columns\n",
    "\n",
    "from sklearn.preprocessing import LabelEncoder\n",
    "\n",
    "# Initialize LabelEncoder object\n",
    "label_encoder = LabelEncoder()\n",
    "\n",
    "\n",
    "# Label-encode the company_name column\n",
    "data['company_name_encoded'] = label_encoder.fit_transform(data['company_name'])\n",
    "\n",
    "\n",
    "# Label-encode the Division column\n",
    "data['Division_encoded'] = label_encoder.fit_transform(data['Division'])\n",
    "\n",
    "# Label-encode MajorGroup columns\n",
    "data['MajorGroup_encoded'] = label_encoder.fit_transform(data['MajorGroup'])\n",
    "#When using label encoding for feature encoding, the sequential relationship between categories will not be introduced and will not have an impact on prediction.\n",
    "\n",
    "# Encode the label of the status_label column\n",
    "data['status_label_encoded'] = label_encoder.fit_transform(data['status_label'])\n",
    "#With only two categories, it may be simpler and more appropriate to use label encoding as it maps the categories to 0 and 1, suitable for use in tree-based models. \n",
    "#If use one-hot encoding, a new column will be generated\n",
    "\n",
    "print(data.head())\n"
   ]
  },
  {
   "cell_type": "code",
   "execution_count": 4,
   "id": "b1f286d3-0047-4da4-90dc-dd63a2e84a66",
   "metadata": {},
   "outputs": [
    {
     "name": "stdout",
     "output_type": "stream",
     "text": [
      "<class 'pandas.core.frame.DataFrame'>\n",
      "RangeIndex: 8971 entries, 0 to 8970\n",
      "Columns: 123 entries, company_name to status_label_encoded\n",
      "dtypes: float64(115), int32(3), int64(2), object(3)\n",
      "memory usage: 8.3+ MB\n"
     ]
    }
   ],
   "source": [
    "data.info()"
   ]
  },
  {
   "cell_type": "code",
   "execution_count": 5,
   "id": "374fe89d-42d2-472f-8724-dcc6f06dff33",
   "metadata": {},
   "outputs": [
    {
     "data": {
      "text/plain": [
       "(8971, 123)"
      ]
     },
     "execution_count": 5,
     "metadata": {},
     "output_type": "execute_result"
    }
   ],
   "source": [
    "data.shape"
   ]
  },
  {
   "cell_type": "code",
   "execution_count": 6,
   "id": "11b45588-522a-4d3c-8509-9749f7d3c4d5",
   "metadata": {},
   "outputs": [
    {
     "name": "stdout",
     "output_type": "stream",
     "text": [
      "Number of unique values in 'company_name_encoded' column: 8971\n",
      "Number of unique values in 'status_label_encoded' column: 2\n",
      "Number of unique values in 'Division_encoded' column: 10\n",
      "Number of unique values in 'MajorGroup_encoded' column: 73\n"
     ]
    }
   ],
   "source": [
    "unique_company_names = data['company_name_encoded'].nunique()\n",
    "unique_status_labels = data['status_label_encoded'].nunique()\n",
    "unique_divisions = data['Division_encoded'].nunique()\n",
    "unique_majorgroup = data['MajorGroup_encoded'].nunique()\n",
    "\n",
    "print(\"Number of unique values in 'company_name_encoded' column:\", unique_company_names)\n",
    "print(\"Number of unique values in 'status_label_encoded' column:\", unique_status_labels)\n",
    "print(\"Number of unique values in 'Division_encoded' column:\", unique_divisions)\n",
    "print(\"Number of unique values in 'MajorGroup_encoded' column:\", unique_majorgroup)\n"
   ]
  },
  {
   "cell_type": "code",
   "execution_count": 7,
   "id": "e1abf0ae-6966-43bc-a652-7523ee634cb3",
   "metadata": {},
   "outputs": [
    {
     "name": "stdout",
     "output_type": "stream",
     "text": [
      "Unique values in 'Division_encoded' column: [3 4 2 8 5 6 1 0 7 9]\n"
     ]
    }
   ],
   "source": [
    "unique_divisions = data['Division_encoded'].unique()\n",
    "print(\"Unique values in 'Division_encoded' column:\", unique_divisions)\n"
   ]
  },
  {
   "cell_type": "code",
   "execution_count": 8,
   "id": "381247f3-2cdf-4adf-b51a-e16ec84e1347",
   "metadata": {},
   "outputs": [
    {
     "name": "stdout",
     "output_type": "stream",
     "text": [
      "Number of rows with missing values: 2673\n"
     ]
    }
   ],
   "source": [
    "missing_rows_count = data.isnull().any(axis=1).sum()\n",
    "print(\"Number of rows with missing values:\", missing_rows_count)\n"
   ]
  },
  {
   "cell_type": "code",
   "execution_count": 9,
   "id": "b98d5d1a-22e0-4ee6-8fc9-f156a2a97b46",
   "metadata": {},
   "outputs": [
    {
     "data": {
      "text/plain": [
       "(6298, 55)"
      ]
     },
     "execution_count": 9,
     "metadata": {},
     "output_type": "execute_result"
    }
   ],
   "source": [
    "# Delete rows with missing values\n",
    "data_cleaned = data.dropna()\n",
    "# Delete non-numeric columns that are not encoded\n",
    "# List of static columns to drop\n",
    "static_columns_to_drop = [\n",
    "    'company_name', 'status_label', 'Division', 'MajorGroup', 'last_year', 'company_name_encoded',\n",
    "    'Division_encoded', 'MajorGroup_encoded'\n",
    "]\n",
    "\n",
    "# List of dynamic columns to drop (nyse and nasdaq columns for 1 year and 2 years)\n",
    "nyse_nasdaq_columns_to_drop = [f'{exchange}_last{year}year' for exchange in ('nyse', 'nasdaq') for year in (1, 2, 3)]\n",
    "\n",
    "# Add X1_last1year_ycr to X18_last1year_ycr and X1_last2year_ycr to X18_last2year_ycr columns to the list\n",
    "ycr_columns_to_drop = [f'X{i}_last{year}year_ycr' for i in range(1, 19) for year in (1, 2, 3)]\n",
    "\n",
    "# Combine all columns to drop\n",
    "columns_to_drop = static_columns_to_drop + nyse_nasdaq_columns_to_drop + ycr_columns_to_drop\n",
    "\n",
    "# Drop the columns from the data\n",
    "data_cleaned = data_cleaned.drop(columns=columns_to_drop)\n",
    "\n",
    "\n",
    "\n",
    "data_cleaned.shape"
   ]
  },
  {
   "cell_type": "code",
   "execution_count": 10,
   "id": "22f1ba13-272c-4957-96db-dd37c4602510",
   "metadata": {},
   "outputs": [
    {
     "data": {
      "text/plain": [
       "<bound method NDFrame.head of       X1_last1year  X1_last2year  X1_last3year  X2_last1year  X2_last2year  \\\n",
       "0            942.7         888.5         873.1       1524.70       1504.10   \n",
       "1           1107.7         900.2        1077.4       1474.50       1343.60   \n",
       "2          12686.0       13454.0       13582.0      21401.00      27171.00   \n",
       "3         581502.0      353541.0     1037047.0    1288165.00     927239.00   \n",
       "5           6838.0        6642.0        5935.0      25088.00      25438.00   \n",
       "...            ...           ...           ...           ...           ...   \n",
       "8966       10566.0       11738.0        9599.0      28278.00      26206.00   \n",
       "8967        3369.0        9049.0       21381.0       3466.00       9198.00   \n",
       "8968        2482.2        2340.6        2071.2       9401.50      10252.40   \n",
       "8969         931.6        1032.7         829.3       2810.20       2542.00   \n",
       "8970       82589.0      135207.0       63971.0       1625.37       1736.11   \n",
       "\n",
       "      X2_last3year  X3_last1year  X3_last2year  X3_last3year  X4_last1year  \\\n",
       "0         1442.100       1413.20      1422.700        1354.9         177.2   \n",
       "1         1921.000        677.20       600.500         870.7         650.8   \n",
       "2        14341.000      19334.00        17.589       15454.0          23.0   \n",
       "3         1623.383        267.81    229115.000      150257.0         300.0   \n",
       "5        25175.000      18138.00     16935.000       20232.0        9253.0   \n",
       "...            ...           ...           ...           ...           ...   \n",
       "8966     23442.000      31288.00     26885.000       22127.0        8497.0   \n",
       "8967     21782.000        208.00      1077.000        4972.0           0.0   \n",
       "8968     10054.100        966.70      1833.200        1723.3        5350.7   \n",
       "8969      2247.400       1475.90      1269.600        1190.4        1409.5   \n",
       "8970   1746235.000      68817.00     66527.000       69074.0      632122.0   \n",
       "\n",
       "      ...  X16_last1year  X16_last2year  X16_last3year  X17_last1year  \\\n",
       "0     ...          588.4         589.90        576.300        1748.30   \n",
       "1     ...         1040.1         987.40       1006.800        1156.60   \n",
       "2     ...        17224.0       12296.00       3672.000          34.28   \n",
       "3     ...       557038.0         203.24     705305.000      722425.00   \n",
       "5     ...        29033.0       28927.00      28110.000       22170.00   \n",
       "...   ...            ...            ...            ...            ...   \n",
       "8966  ...        17882.0       17256.00      17369.000       39004.00   \n",
       "8967  ...         7181.0        2408.00       3524.000          53.00   \n",
       "8968  ...         7220.4        7392.40       7164.300        1961.00   \n",
       "8969  ...         2156.2        2136.50       2131.000        2731.70   \n",
       "8970  ...       712687.0      776697.00        770.233      160513.00   \n",
       "\n",
       "      X17_last2year  X17_last3year  X18_last1year  X18_last2year  \\\n",
       "0           1767.60       1662.600       1621.800         1619.4   \n",
       "1            996.70       1456.400       1035.200          912.0   \n",
       "2             28.72      24998.000      37001.000        29152.0   \n",
       "3         653828.00     553617.000        681.609       514914.0   \n",
       "5          19917.00      23766.000      20867.000        19655.0   \n",
       "...             ...            ...            ...            ...   \n",
       "8966       34484.00      29183.000      32459.000        27850.0   \n",
       "8967         545.00          1.316         10.700        13328.0   \n",
       "8968        3775.90       3585.900       1548.300         3017.8   \n",
       "8969        2408.20       2238.000       2112.700         1840.9   \n",
       "8970      161884.00     169858.000      93251.000        92713.0   \n",
       "\n",
       "      X18_last3year  status_label_encoded  \n",
       "0            1525.7                     0  \n",
       "1            1283.1                     0  \n",
       "2           23746.0                     0  \n",
       "3          390516.0                     0  \n",
       "5           23256.0                     1  \n",
       "...             ...                   ...  \n",
       "8966        23059.0                     0  \n",
       "8967        34947.0                     0  \n",
       "8968         2862.3                     0  \n",
       "8969         1748.0                     0  \n",
       "8970        90807.0                     0  \n",
       "\n",
       "[6298 rows x 55 columns]>"
      ]
     },
     "execution_count": 10,
     "metadata": {},
     "output_type": "execute_result"
    }
   ],
   "source": [
    "data_cleaned.head"
   ]
  },
  {
   "cell_type": "code",
   "execution_count": 11,
   "id": "89dd5f1e-dc82-4769-b937-5bb68e3d9f31",
   "metadata": {},
   "outputs": [
    {
     "name": "stdout",
     "output_type": "stream",
     "text": [
      "0    5784\n",
      "1     514\n",
      "Name: status_label_encoded, dtype: int64\n"
     ]
    }
   ],
   "source": [
    "status_counts = data_cleaned['status_label_encoded'].value_counts()\n",
    "print(status_counts)\n"
   ]
  },
  {
   "cell_type": "markdown",
   "id": "6a330463-b2f8-4aa1-85a6-f2ad40621a69",
   "metadata": {},
   "source": [
    "### 1. RF"
   ]
  },
  {
   "cell_type": "code",
   "execution_count": 12,
   "id": "8f159c74-a2f6-46b8-b156-d9db13dd3a57",
   "metadata": {},
   "outputs": [],
   "source": [
    "#the impact of imbalanced datasets\n"
   ]
  },
  {
   "cell_type": "markdown",
   "id": "317d5616-60a7-4288-b8a2-6630bd5fbe7d",
   "metadata": {},
   "source": [
    "#### 1.1 imbalance dataset + CV"
   ]
  },
  {
   "cell_type": "code",
   "execution_count": 13,
   "id": "90fff82c-02bc-4660-86fb-87d2b8ed60f3",
   "metadata": {},
   "outputs": [
    {
     "name": "stdout",
     "output_type": "stream",
     "text": [
      "Validation Accuracy: 0.9277777777777778\n",
      "Cross-validation Scores: [0.91865079 0.91964286 0.9156746  0.92055611 0.91658391]\n",
      "Mean CV Accuracy: 0.9182216547658454\n",
      "Test Accuracy: 0.9261904761904762\n"
     ]
    }
   ],
   "source": [
    "from sklearn.model_selection import train_test_split, cross_val_score\n",
    "from sklearn.ensemble import RandomForestClassifier\n",
    "from sklearn.metrics import accuracy_score\n",
    "\n",
    "# Split the dataset into features and labels\n",
    "X = data_cleaned.drop('status_label_encoded', axis=1)\n",
    "y = data_cleaned['status_label_encoded']\n",
    "\n",
    "# Split the data set into training set, validation set and test set\n",
    "X_train_val, X_test, y_train_val, y_test = train_test_split(X, y, test_size=0.2, random_state=42)\n",
    "X_train, X_val, y_train, y_val = train_test_split(X_train_val, y_train_val, test_size=0.25, random_state=42)  # 80% training, 20% validation\n",
    "\n",
    "# Define a random forest classifier\n",
    "rf_classifier = RandomForestClassifier(n_estimators=100, random_state=42)\n",
    "# Train the model on the training set\n",
    "rf_classifier.fit(X_train, y_train)\n",
    "\n",
    "# Make predictions on the validation set\n",
    "val_predictions = rf_classifier.predict(X_val)\n",
    "# Calculate accuracy on validation set\n",
    "val_accuracy = accuracy_score(y_val, val_predictions)\n",
    "print(\"Validation Accuracy:\", val_accuracy)\n",
    "\n",
    "# Perform cross-validation on the training set\n",
    "cv_scores = cross_val_score(rf_classifier, X_train_val, y_train_val, cv=5)\n",
    "# Print cross-validation scores\n",
    "print(\"Cross-validation Scores:\", cv_scores)\n",
    "print(\"Mean CV Accuracy:\", cv_scores.mean())\n",
    "# Retrain the model on the entire training set\n",
    "\n",
    "\n",
    "# Make predictions on the test set\n",
    "test_predictions = rf_classifier.predict(X_test)\n",
    "# Calculate accuracy on test set\n",
    "test_accuracy = accuracy_score(y_test, test_predictions)\n",
    "print(\"Test Accuracy:\", test_accuracy)\n"
   ]
  },
  {
   "cell_type": "code",
   "execution_count": 14,
   "id": "ef9d866c-bd00-40bf-9b07-b63d8c2b2bd4",
   "metadata": {},
   "outputs": [
    {
     "name": "stdout",
     "output_type": "stream",
     "text": [
      "Accuracy: 0.9261904761904762\n",
      "Precision: 0.8571428571428571\n",
      "Recall: 0.061224489795918366\n",
      "F1 Score: 0.11428571428571428\n",
      "Micro F1 Score: 0.9261904761904762\n",
      "Macro F1 Score: 0.537888198757764\n",
      "ROC AUC: 0.809736028662756\n",
      "Confusion Matrix:\n",
      "[[1161    1]\n",
      " [  92    6]]\n"
     ]
    }
   ],
   "source": [
    "from sklearn.metrics import accuracy_score, precision_score, recall_score, f1_score, roc_auc_score, precision_recall_curve, roc_curve, confusion_matrix\n",
    "\n",
    "# Calculate accuracy\n",
    "accuracy = accuracy_score(y_test, test_predictions)\n",
    "print(\"Accuracy:\", accuracy)\n",
    "\n",
    "# Calculation precision\n",
    "precision = precision_score(y_test, test_predictions)\n",
    "print(\"Precision:\", precision)\n",
    "\n",
    "# Calculate recall\n",
    "recall = recall_score(y_test, test_predictions)\n",
    "print(\"Recall:\", recall)\n",
    "\n",
    "# Calculate F1 score\n",
    "f1 = f1_score(y_test, test_predictions)\n",
    "print(\"F1 Score:\", f1)\n",
    "\n",
    "# Calculate micro F1 score\n",
    "micro_f1 = f1_score(y_test, test_predictions, average='micro')\n",
    "print(\"Micro F1 Score:\", micro_f1)\n",
    "\n",
    "# Calculate macro F1 score\n",
    "macro_f1 = f1_score(y_test, test_predictions, average='macro')\n",
    "print(\"Macro F1 Score:\", macro_f1)\n",
    "\n",
    "# Calculate ROC AUC\n",
    "y_prob = rf_classifier.predict_proba(X_test)[:, 1]\n",
    "roc_auc = roc_auc_score(y_test, y_prob)\n",
    "print(\"ROC AUC:\", roc_auc)\n",
    "\n",
    "# Calculate confusion matrix\n",
    "conf_matrix = confusion_matrix(y_test, test_predictions)\n",
    "print(\"Confusion Matrix:\")\n",
    "print(conf_matrix)\n"
   ]
  },
  {
   "cell_type": "code",
   "execution_count": null,
   "id": "9228af36-d91a-44b9-ba3c-a77f93a903ae",
   "metadata": {},
   "outputs": [],
   "source": []
  },
  {
   "cell_type": "markdown",
   "id": "80fd8821-7338-45dc-a3e0-949fefa793bc",
   "metadata": {},
   "source": [
    "### 2. XGBOOST"
   ]
  },
  {
   "cell_type": "code",
   "execution_count": 15,
   "id": "ca37366c-2d39-4c57-9288-5724a2d0fe97",
   "metadata": {},
   "outputs": [],
   "source": [
    "#2.1 imbalance\n"
   ]
  },
  {
   "cell_type": "code",
   "execution_count": 16,
   "id": "775f5465-3caa-4d00-908a-bdff4eecaab1",
   "metadata": {},
   "outputs": [
    {
     "name": "stdout",
     "output_type": "stream",
     "text": [
      "[0]\ttrain-logloss:0.30216\teval-logloss:0.28261\n",
      "[1]\ttrain-logloss:0.28712\teval-logloss:0.27648\n",
      "[2]\ttrain-logloss:0.27228\teval-logloss:0.27129\n",
      "[3]\ttrain-logloss:0.25847\teval-logloss:0.26611\n",
      "[4]\ttrain-logloss:0.24646\teval-logloss:0.26062\n",
      "[5]\ttrain-logloss:0.23451\teval-logloss:0.25589\n",
      "[6]\ttrain-logloss:0.22362\teval-logloss:0.25187\n",
      "[7]\ttrain-logloss:0.21351\teval-logloss:0.24772\n",
      "[8]\ttrain-logloss:0.20370\teval-logloss:0.24427\n",
      "[9]\ttrain-logloss:0.19453\teval-logloss:0.24095\n",
      "[10]\ttrain-logloss:0.18665\teval-logloss:0.23786\n",
      "[11]\ttrain-logloss:0.17874\teval-logloss:0.23523\n",
      "[12]\ttrain-logloss:0.17135\teval-logloss:0.23326\n",
      "[13]\ttrain-logloss:0.16425\teval-logloss:0.23144\n",
      "[14]\ttrain-logloss:0.15757\teval-logloss:0.22900\n",
      "[15]\ttrain-logloss:0.15149\teval-logloss:0.22733\n",
      "[16]\ttrain-logloss:0.14553\teval-logloss:0.22585\n",
      "[17]\ttrain-logloss:0.13984\teval-logloss:0.22494\n",
      "[18]\ttrain-logloss:0.13458\teval-logloss:0.22386\n",
      "[19]\ttrain-logloss:0.12955\teval-logloss:0.22278\n",
      "[20]\ttrain-logloss:0.12480\teval-logloss:0.22165\n",
      "[21]\ttrain-logloss:0.12056\teval-logloss:0.22000\n",
      "[22]\ttrain-logloss:0.11632\teval-logloss:0.21807\n",
      "[23]\ttrain-logloss:0.11240\teval-logloss:0.21686\n",
      "[24]\ttrain-logloss:0.10849\teval-logloss:0.21601\n",
      "[25]\ttrain-logloss:0.10486\teval-logloss:0.21509\n",
      "[26]\ttrain-logloss:0.10154\teval-logloss:0.21433\n",
      "[27]\ttrain-logloss:0.09820\teval-logloss:0.21430\n",
      "[28]\ttrain-logloss:0.09507\teval-logloss:0.21428\n",
      "[29]\ttrain-logloss:0.09202\teval-logloss:0.21380\n",
      "[30]\ttrain-logloss:0.08910\teval-logloss:0.21308\n",
      "[31]\ttrain-logloss:0.08639\teval-logloss:0.21270\n",
      "[32]\ttrain-logloss:0.08383\teval-logloss:0.21272\n",
      "[33]\ttrain-logloss:0.08138\teval-logloss:0.21272\n",
      "[34]\ttrain-logloss:0.07891\teval-logloss:0.21279\n",
      "[35]\ttrain-logloss:0.07668\teval-logloss:0.21271\n",
      "[36]\ttrain-logloss:0.07442\teval-logloss:0.21299\n",
      "[37]\ttrain-logloss:0.07248\teval-logloss:0.21253\n",
      "[38]\ttrain-logloss:0.07043\teval-logloss:0.21259\n",
      "[39]\ttrain-logloss:0.06853\teval-logloss:0.21318\n",
      "[40]\ttrain-logloss:0.06660\teval-logloss:0.21357\n",
      "[41]\ttrain-logloss:0.06474\teval-logloss:0.21362\n",
      "[42]\ttrain-logloss:0.06306\teval-logloss:0.21384\n",
      "[43]\ttrain-logloss:0.06143\teval-logloss:0.21419\n",
      "[44]\ttrain-logloss:0.05989\teval-logloss:0.21449\n",
      "[45]\ttrain-logloss:0.05838\teval-logloss:0.21454\n",
      "[46]\ttrain-logloss:0.05690\teval-logloss:0.21475\n",
      "Test Accuracy: 0.9301587301587302\n"
     ]
    }
   ],
   "source": [
    "from imblearn.over_sampling import SMOTE\n",
    "from sklearn.model_selection import train_test_split\n",
    "from sklearn.metrics import accuracy_score\n",
    "import xgboost as xgb\n",
    "import pandas as pd\n",
    "\n",
    "# Split the dataset into features and labels\n",
    "X = data_cleaned.drop('status_label_encoded', axis=1)\n",
    "y = data_cleaned['status_label_encoded']\n",
    "\n",
    "# Split the data into training + validation and testing sets\n",
    "X_train_val, X_test, y_train_val, y_test = train_test_split(X, y, test_size=0.2, random_state=42)\n",
    "# Further split the training + validation set into training and validation sets\n",
    "X_train, X_val, y_train, y_val = train_test_split(X_train_val, y_train_val, test_size=0.25, random_state=42)\n",
    "\n",
    "\n",
    "# Convert data to DMatrix format for XGBoost\n",
    "dtrain = xgb.DMatrix(X_train, label=y_train)\n",
    "dval = xgb.DMatrix(X_val, label=y_val)\n",
    "dtest = xgb.DMatrix(X_test, label=y_test)\n",
    "\n",
    "params = {\n",
    "    'objective': 'binary:logistic',  # Binary classification\n",
    "    'eval_metric': 'logloss',         # Logarithmic loss\n",
    "    'eta': 0.07,                       # Learning rate\n",
    "    'max_depth': 60,                   # Maximum depth of the tree\n",
    "    'subsample': 0.9,                 # Subsample ratio of the training instances\n",
    "    'colsample_bytree': 0.9,          # Subsample ratio of columns when constructing each tree\n",
    "    'lambda': 1,                      # L2 regularization term (default is 1)\n",
    "    'alpha': 0,                       # L1 regularization term (default is 0)\n",
    "    'seed': 42                        # Random seed\n",
    "}\n",
    "\n",
    "# Train XGBoost model\n",
    "num_rounds = 100\n",
    "watchlist = [(dtrain, 'train'), (dval, 'eval')]\n",
    "xgb_model = xgb.train(params, dtrain, num_rounds, evals=watchlist, early_stopping_rounds=10)\n",
    "\n",
    "# Make predictions on the test set\n",
    "test_predictions_proba = xgb_model.predict(dtest)\n",
    "test_predictions = [1 if x > 0.5 else 0 for x in test_predictions_proba]\n",
    "\n",
    "# Calculate accuracy on test set\n",
    "test_accuracy = accuracy_score(y_test, test_predictions)\n",
    "print(\"Test Accuracy:\", test_accuracy)\n"
   ]
  },
  {
   "cell_type": "code",
   "execution_count": 17,
   "id": "0b2d1469-e2c3-4039-b7cb-448d7139d0b1",
   "metadata": {},
   "outputs": [
    {
     "name": "stdout",
     "output_type": "stream",
     "text": [
      "Accuracy: 0.9301587301587302\n",
      "Precision: 0.8571428571428571\n",
      "Recall: 0.12244897959183673\n",
      "F1 Score: 0.21428571428571427\n",
      "Micro F1 Score: 0.9301587301587302\n",
      "Macro F1 Score: 0.5888704318936876\n",
      "ROC AUC: 0.8360233938670133\n",
      "Confusion Matrix:\n",
      "[[1160    2]\n",
      " [  86   12]]\n"
     ]
    }
   ],
   "source": [
    "from sklearn.metrics import accuracy_score, precision_score, recall_score, f1_score, roc_auc_score, confusion_matrix\n",
    "\n",
    "# Calculate accuracy\n",
    "accuracy = accuracy_score(y_test, test_predictions)\n",
    "print(\"Accuracy:\", accuracy)\n",
    "\n",
    "# Calculate precision\n",
    "precision = precision_score(y_test, test_predictions)\n",
    "print(\"Precision:\", precision)\n",
    "\n",
    "# Calculate recall\n",
    "recall = recall_score(y_test, test_predictions)\n",
    "print(\"Recall:\", recall)\n",
    "\n",
    "# Calculate F1 score\n",
    "f1 = f1_score(y_test, test_predictions)\n",
    "print(\"F1 Score:\", f1)\n",
    "\n",
    "# Calculate micro F1 score\n",
    "micro_f1 = f1_score(y_test, test_predictions, average='micro')\n",
    "print(\"Micro F1 Score:\", micro_f1)\n",
    "\n",
    "# Calculate macro F1 score\n",
    "macro_f1 = f1_score(y_test, test_predictions, average='macro')\n",
    "print(\"Macro F1 Score:\", macro_f1)\n",
    "\n",
    "# Calculate ROC AUC\n",
    "roc_auc = roc_auc_score(y_test, test_predictions_proba)\n",
    "print(\"ROC AUC:\", roc_auc)\n",
    "\n",
    "# Calculate confusion matrix\n",
    "conf_matrix = confusion_matrix(y_test, test_predictions)\n",
    "print(\"Confusion Matrix:\")\n",
    "print(conf_matrix)\n"
   ]
  },
  {
   "cell_type": "markdown",
   "id": "df4285d6-d191-459f-82e5-af2d11884f3f",
   "metadata": {
    "tags": []
   },
   "source": [
    "### 3. GB\n"
   ]
  },
  {
   "cell_type": "code",
   "execution_count": 18,
   "id": "59a6df05-e8a0-4152-8526-eabb0e804e00",
   "metadata": {},
   "outputs": [],
   "source": [
    "#imbalance+cv"
   ]
  },
  {
   "cell_type": "code",
   "execution_count": 19,
   "id": "8f705495-0cf3-4d0c-891d-ccd5586d0ba8",
   "metadata": {},
   "outputs": [
    {
     "name": "stdout",
     "output_type": "stream",
     "text": [
      "Validation Accuracy: 0.9261904761904762\n",
      "Cross-validation Scores: [0.91765873 0.91765873 0.91765873 0.92949355 0.91459782]\n",
      "Mean CV Accuracy: 0.9194135101905708\n",
      "Test Accuracy: 0.9285714285714286\n"
     ]
    }
   ],
   "source": [
    "from sklearn.model_selection import train_test_split, cross_val_score\n",
    "from sklearn.metrics import accuracy_score\n",
    "from sklearn.ensemble import GradientBoostingClassifier\n",
    "from sklearn.tree import DecisionTreeClassifier\n",
    "import pandas as pd\n",
    "\n",
    "# Split the dataset into features and labels\n",
    "X = data_cleaned.drop('status_label_encoded', axis=1)\n",
    "y = data_cleaned['status_label_encoded']\n",
    "\n",
    "# Split the data into training + validation and testing sets\n",
    "X_train_val, X_test, y_train_val, y_test = train_test_split(X, y, test_size=0.2, random_state=42)\n",
    "# Further split the training + validation set into training and validation sets\n",
    "X_train, X_val, y_train, y_val = train_test_split(X_train_val, y_train_val, test_size=0.25, random_state=42)\n",
    "\n",
    "# Define a Gradient Boosting classifier\n",
    "gb_classifier = GradientBoostingClassifier(n_estimators=100, max_depth=10, random_state=42)\n",
    "\n",
    "# Train Gradient Boosting model\n",
    "gb_classifier.fit(X_train, y_train)\n",
    "\n",
    "# Make predictions on the validation set\n",
    "val_predictions = gb_classifier.predict(X_val)\n",
    "# Calculate accuracy on validation set\n",
    "val_accuracy = accuracy_score(y_val, val_predictions)\n",
    "print(\"Validation Accuracy:\", val_accuracy)\n",
    "\n",
    "# Perform cross-validation on the train_val set\n",
    "cv_scores = cross_val_score(gb_classifier, X_train_val, y_train_val, cv=5)\n",
    "# Print cross-validat ion scores\n",
    "print(\"Cross-validation Scores:\", cv_scores)\n",
    "print(\"Mean CV Accuracy:\", cv_scores.mean())\n",
    "\n",
    "\n",
    "# Make predictions on the test set\n",
    "test_predictions = gb_classifier.predict(X_test)\n",
    "# Calculate accuracy on test set\n",
    "test_accuracy = accuracy_score(y_test, test_predictions)\n",
    "print(\"Test Accuracy:\", test_accuracy)\n"
   ]
  },
  {
   "cell_type": "code",
   "execution_count": 20,
   "id": "de63fad9-a98d-4af8-b0df-df411118d900",
   "metadata": {},
   "outputs": [
    {
     "name": "stdout",
     "output_type": "stream",
     "text": [
      "Micro F1 Score: 0.9285714285714286\n",
      "Macro F1 Score: 0.5999096797866185\n",
      "Test Accuracy: 0.9285714285714286\n",
      "Precision: 0.7\n",
      "Recall: 0.14285714285714285\n",
      "F1 Score: 0.23728813559322035\n",
      "ROC AUC Score: 0.8141048157645158\n",
      "Confusion Matrix:\n",
      " [[1156    6]\n",
      " [  84   14]]\n"
     ]
    }
   ],
   "source": [
    "from sklearn.metrics import precision_score, recall_score, f1_score, roc_auc_score, confusion_matrix\n",
    "\n",
    "# Calculate accuracy on test set\n",
    "test_accuracy = accuracy_score(y_test, test_predictions)\n",
    "\n",
    "# Calculate precision\n",
    "precision = precision_score(y_test, test_predictions)\n",
    "\n",
    "# Calculate recall\n",
    "recall = recall_score(y_test, test_predictions)\n",
    "\n",
    "# Calculate F1 score\n",
    "f1 = f1_score(y_test, test_predictions)\n",
    "\n",
    "# Calculate micro F1 score\n",
    "micro_f1 = f1_score(y_test, test_predictions, average='micro')\n",
    "print(\"Micro F1 Score:\", micro_f1)\n",
    "\n",
    "# Calculate macro F1 score\n",
    "macro_f1 = f1_score(y_test, test_predictions, average='macro')\n",
    "print(\"Macro F1 Score:\", macro_f1)\n",
    "\n",
    "# Calculate ROC AUC score\n",
    "test_predictions_proba = gb_classifier.predict_proba(X_test)[:, 1]  # Probabilities for positive class\n",
    "roc_auc = roc_auc_score(y_test, test_predictions_proba)\n",
    "\n",
    "# Calculate confusion matrix\n",
    "conf_matrix = confusion_matrix(y_test, test_predictions)\n",
    "\n",
    "print(\"Test Accuracy:\", test_accuracy)\n",
    "print(\"Precision:\", precision)\n",
    "print(\"Recall:\", recall)\n",
    "print(\"F1 Score:\", f1)\n",
    "print(\"ROC AUC Score:\", roc_auc)\n",
    "print(\"Confusion Matrix:\\n\", conf_matrix)\n"
   ]
  },
  {
   "cell_type": "markdown",
   "id": "fae3d2bb-3c16-4a4c-b420-d4e68d1a1d67",
   "metadata": {},
   "source": [
    "### 4. Bagging"
   ]
  },
  {
   "cell_type": "code",
   "execution_count": 21,
   "id": "76fec8a7-10c8-4b9e-acb9-a491bb6c1307",
   "metadata": {},
   "outputs": [],
   "source": [
    "# imbalanced + cv"
   ]
  },
  {
   "cell_type": "code",
   "execution_count": 22,
   "id": "b68ffc93-9a1e-4c8c-b462-54a154606896",
   "metadata": {},
   "outputs": [
    {
     "name": "stdout",
     "output_type": "stream",
     "text": [
      "Validation Accuracy: 0.9253968253968254\n",
      "Cross-validation Scores: [0.9156746  0.92162698 0.91765873 0.92750745 0.91956306]\n",
      "Mean CV Accuracy: 0.9204061647830267\n",
      "Test Accuracy: 0.9285714285714286\n"
     ]
    }
   ],
   "source": [
    "from sklearn.model_selection import train_test_split, cross_val_score\n",
    "from sklearn.ensemble import BaggingClassifier\n",
    "from xgboost import XGBClassifier\n",
    "from sklearn.metrics import accuracy_score\n",
    "\n",
    "# Split the dataset into features and labels\n",
    "X = data_cleaned.drop('status_label_encoded', axis=1)\n",
    "y = data_cleaned['status_label_encoded']\n",
    "\n",
    "# Split the data set into training set, validation set and test set\n",
    "X_train_val, X_test, y_train_val, y_test = train_test_split(X, y, test_size=0.2, random_state=42)\n",
    "X_train, X_val, y_train, y_val = train_test_split(X_train_val, y_train_val, test_size=0.25, random_state=42)  # 80% training, 20% validation\n",
    "\n",
    "# Define a XGBoost base estimator\n",
    "base_estimator = XGBClassifier(n_estimators=100, random_state=42)  #better than base_estimator=DecisionTreeClassifier\n",
    "# Define a bagging classifier\n",
    "bagging_classifier = BaggingClassifier(base_estimator=base_estimator, n_estimators=10, random_state=42)\n",
    "\n",
    "# Train the model on the training set\n",
    "bagging_classifier.fit(X_train, y_train)\n",
    "\n",
    "# Make predictions on the validation set\n",
    "val_predictions = bagging_classifier.predict(X_val)\n",
    "# Calculate accuracy on validation set\n",
    "val_accuracy = accuracy_score(y_val, val_predictions)\n",
    "print(\"Validation Accuracy:\", val_accuracy)\n",
    "\n",
    "# Perform cross-validation on the train_val set\n",
    "cv_scores = cross_val_score(bagging_classifier, X_train_val, y_train_val, cv=5)\n",
    "# Print cross-validation scores\n",
    "print(\"Cross-validation Scores:\", cv_scores)\n",
    "print(\"Mean CV Accuracy:\", cv_scores.mean())\n",
    "\n",
    "\n",
    "\n",
    "# Make predictions on the test set\n",
    "test_predictions = bagging_classifier.predict(X_test)\n",
    "# Calculate accuracy on test set\n",
    "test_accuracy = accuracy_score(y_test, test_predictions)\n",
    "print(\"Test Accuracy:\", test_accuracy)\n"
   ]
  },
  {
   "cell_type": "code",
   "execution_count": 23,
   "id": "2fa69893-48ae-4ddf-b419-679fb2d92cb5",
   "metadata": {},
   "outputs": [
    {
     "name": "stdout",
     "output_type": "stream",
     "text": [
      "Micro F1 Score: 0.9285714285714286\n",
      "Macro F1 Score: 0.6062500000000001\n",
      "Test Accuracy: 0.9285714285714286\n",
      "Precision: 0.6818181818181818\n",
      "Recall: 0.15306122448979592\n",
      "F1 Score: 0.25000000000000006\n",
      "ROC AUC Score: 0.836093645719906\n",
      "Confusion Matrix:\n",
      " [[1155    7]\n",
      " [  83   15]]\n"
     ]
    }
   ],
   "source": [
    "from sklearn.metrics import precision_score, recall_score, f1_score, roc_auc_score, confusion_matrix\n",
    "\n",
    "\n",
    "# Calculate accuracy on test set\n",
    "test_accuracy = accuracy_score(y_test, test_predictions)\n",
    "\n",
    "# Calculate precision\n",
    "precision = precision_score(y_test, test_predictions)\n",
    "\n",
    "# Calculate recall\n",
    "recall = recall_score(y_test, test_predictions)\n",
    "\n",
    "# Calculate F1 score\n",
    "f1 = f1_score(y_test, test_predictions)\n",
    "\n",
    "# Calculate micro F1 score\n",
    "micro_f1 = f1_score(y_test, test_predictions, average='micro')\n",
    "print(\"Micro F1 Score:\", micro_f1)\n",
    "\n",
    "# Calculate macro F1 score\n",
    "macro_f1 = f1_score(y_test, test_predictions, average='macro')\n",
    "print(\"Macro F1 Score:\", macro_f1)\n",
    "\n",
    "# Calculate ROC AUC score\n",
    "test_predictions_proba = bagging_classifier.predict_proba(X_test)[:, 1]  # Probabilities for positive class\n",
    "roc_auc = roc_auc_score(y_test, test_predictions_proba)\n",
    "\n",
    "# Calculate confusion matrix\n",
    "conf_matrix = confusion_matrix(y_test, test_predictions)\n",
    "\n",
    "print(\"Test Accuracy:\", test_accuracy)\n",
    "print(\"Precision:\", precision)\n",
    "print(\"Recall:\", recall)\n",
    "print(\"F1 Score:\", f1)\n",
    "print(\"ROC AUC Score:\", roc_auc)\n",
    "print(\"Confusion Matrix:\\n\", conf_matrix)\n"
   ]
  },
  {
   "cell_type": "code",
   "execution_count": null,
   "id": "0ce603e3-5411-43aa-b4f9-e4ce89eb0602",
   "metadata": {},
   "outputs": [],
   "source": []
  }
 ],
 "metadata": {
  "kernelspec": {
   "display_name": "Python 3 (ipykernel)",
   "language": "python",
   "name": "python3"
  },
  "language_info": {
   "codemirror_mode": {
    "name": "ipython",
    "version": 3
   },
   "file_extension": ".py",
   "mimetype": "text/x-python",
   "name": "python",
   "nbconvert_exporter": "python",
   "pygments_lexer": "ipython3",
   "version": "3.9.13"
  }
 },
 "nbformat": 4,
 "nbformat_minor": 5
}
