{
 "cells": [
  {
   "cell_type": "code",
   "execution_count": null,
   "id": "d162b6bb-04be-41c3-94af-44ab59e6500d",
   "metadata": {},
   "outputs": [],
   "source": []
  },
  {
   "cell_type": "code",
   "execution_count": null,
   "id": "f00c0043-c7ca-4492-ad2f-cced9d6fae30",
   "metadata": {},
   "outputs": [],
   "source": []
  },
  {
   "cell_type": "code",
   "execution_count": 1,
   "id": "eb2e3631-6704-4cac-8a49-88743235ff8e",
   "metadata": {},
   "outputs": [
    {
     "name": "stdout",
     "output_type": "stream",
     "text": [
      "Number of unique values in 'company_name' column: 8971\n",
      "Number of unique values in 'status_label' column: 2\n",
      "Number of unique values in 'Division' column: 10\n",
      "Number of unique values in 'MajorGroup' column: 73\n",
      "Number of unique values in 'last_year' column: 20\n"
     ]
    }
   ],
   "source": [
    "import pandas as pd\n",
    "\n",
    "# Read the data set\n",
    "data = pd.read_csv(\"new_df_selected5_last5years_adjusted.csv\")\n",
    "\n",
    "unique_company_names = data['company_name'].nunique()\n",
    "unique_status_labels = data['status_label'].nunique()\n",
    "unique_divisions = data['Division'].nunique()\n",
    "unique_majorgroup = data['MajorGroup'].nunique()\n",
    "unique_last_year = data['last_year'].nunique()\n",
    "\n",
    "print(\"Number of unique values in 'company_name' column:\", unique_company_names)\n",
    "print(\"Number of unique values in 'status_label' column:\", unique_status_labels)\n",
    "print(\"Number of unique values in 'Division' column:\", unique_divisions)\n",
    "print(\"Number of unique values in 'MajorGroup' column:\", unique_majorgroup)\n",
    "print(\"Number of unique values in 'last_year' column:\", unique_last_year)\n",
    "\n"
   ]
  },
  {
   "cell_type": "code",
   "execution_count": null,
   "id": "263fa8e8-cf02-4f9e-a23d-74af29abb22c",
   "metadata": {},
   "outputs": [],
   "source": []
  },
  {
   "cell_type": "code",
   "execution_count": 2,
   "id": "0552208d-295c-4128-90b8-ed6e4d3a1494",
   "metadata": {},
   "outputs": [
    {
     "name": "stdout",
     "output_type": "stream",
     "text": [
      "<class 'pandas.core.frame.DataFrame'>\n",
      "RangeIndex: 8971 entries, 0 to 8970\n",
      "Columns: 195 entries, company_name to nasdaq_last5year\n",
      "dtypes: float64(191), int64(1), object(3)\n",
      "memory usage: 13.3+ MB\n"
     ]
    }
   ],
   "source": [
    "data.info()"
   ]
  },
  {
   "cell_type": "code",
   "execution_count": 3,
   "id": "cc4a5663-66c6-4f87-84bb-ff9ab875eba4",
   "metadata": {},
   "outputs": [
    {
     "name": "stderr",
     "output_type": "stream",
     "text": [
      "D:\\Anaconda\\lib\\site-packages\\scipy\\__init__.py:155: UserWarning: A NumPy version >=1.18.5 and <1.25.0 is required for this version of SciPy (detected version 1.26.4\n",
      "  warnings.warn(f\"A NumPy version >={np_minversion} and <{np_maxversion}\"\n"
     ]
    },
    {
     "name": "stdout",
     "output_type": "stream",
     "text": [
      "  company_name status_label Division  MajorGroup  last_year  X1_last1year  \\\n",
      "0          C_1        alive        D          37     2017.0         942.7   \n",
      "1          C_2        alive        D          36     2010.0        1107.7   \n",
      "2          C_3        alive        D          38     2008.0       12686.0   \n",
      "3          C_4        alive        D          28     2007.0      581502.0   \n",
      "4          C_5        alive        D          35     1999.0       28957.0   \n",
      "\n",
      "   X1_last2year  X1_last3year  X1_last4year  X1_last5year  ...  \\\n",
      "0         888.5         873.1         954.1      1116.900  ...   \n",
      "1         900.2        1077.4        1008.2       942.700  ...   \n",
      "2       13454.0       13582.0        7726.0      5807.000  ...   \n",
      "3      353541.0     1037047.0      672072.0       692.991  ...   \n",
      "4           NaN           NaN           NaN           NaN  ...   \n",
      "\n",
      "   nyse_last5year  nasdaq_last1year  nasdaq_last2year  nasdaq_last3year  \\\n",
      "0     9467.185872       6293.024211       5015.926717       4932.729126   \n",
      "1     8434.441610       2333.908345       1856.529999       2148.948334   \n",
      "2     6645.525065       2148.948334       2587.587504       2278.996664   \n",
      "3     5478.855835       2587.587504       2278.996664       2100.603343   \n",
      "4             NaN       2787.559998               NaN               NaN   \n",
      "\n",
      "   nasdaq_last4year  nasdaq_last5year  company_name_encoded  Division_encoded  \\\n",
      "0       4414.850057       3575.141642                     0                 3   \n",
      "1       2587.587504       2278.996664                  1111                 3   \n",
      "2       2100.603343       1992.867482                  2222                 3   \n",
      "3       1992.867482       1659.239176                  3333                 3   \n",
      "4               NaN               NaN                  4444                 3   \n",
      "\n",
      "   MajorGroup_encoded  status_label_encoded  \n",
      "0                  29                     0  \n",
      "1                  28                     0  \n",
      "2                  30                     0  \n",
      "3                  20                     0  \n",
      "4                  27                     0  \n",
      "\n",
      "[5 rows x 199 columns]\n"
     ]
    }
   ],
   "source": [
    "# Encoding non-numeric columns\n",
    "\n",
    "from sklearn.preprocessing import LabelEncoder\n",
    "\n",
    "# Initialize LabelEncoder object\n",
    "label_encoder = LabelEncoder()\n",
    "\n",
    "\n",
    "# Label-encode the company_name column\n",
    "data['company_name_encoded'] = label_encoder.fit_transform(data['company_name'])\n",
    "\n",
    "\n",
    "# Label-encode the Division column\n",
    "data['Division_encoded'] = label_encoder.fit_transform(data['Division'])\n",
    "\n",
    "# Label-encode MajorGroup columns\n",
    "data['MajorGroup_encoded'] = label_encoder.fit_transform(data['MajorGroup'])\n",
    "#When using label encoding for feature encoding, the sequential relationship between categories will not be introduced and will not have an impact on prediction.\n",
    "\n",
    "# Encode the label of the status_label column\n",
    "data['status_label_encoded'] = label_encoder.fit_transform(data['status_label'])\n",
    "#With only two categories, it may be simpler and more appropriate to use label encoding as it maps the categories to 0 and 1, suitable for use in tree-based models. \n",
    "#If use one-hot encoding, a new column will be generated\n",
    "\n",
    "print(data.head())\n"
   ]
  },
  {
   "cell_type": "code",
   "execution_count": 4,
   "id": "b1f286d3-0047-4da4-90dc-dd63a2e84a66",
   "metadata": {},
   "outputs": [
    {
     "name": "stdout",
     "output_type": "stream",
     "text": [
      "<class 'pandas.core.frame.DataFrame'>\n",
      "RangeIndex: 8971 entries, 0 to 8970\n",
      "Columns: 199 entries, company_name to status_label_encoded\n",
      "dtypes: float64(191), int32(3), int64(2), object(3)\n",
      "memory usage: 13.5+ MB\n"
     ]
    }
   ],
   "source": [
    "data.info()"
   ]
  },
  {
   "cell_type": "code",
   "execution_count": 5,
   "id": "374fe89d-42d2-472f-8724-dcc6f06dff33",
   "metadata": {},
   "outputs": [
    {
     "data": {
      "text/plain": [
       "(8971, 199)"
      ]
     },
     "execution_count": 5,
     "metadata": {},
     "output_type": "execute_result"
    }
   ],
   "source": [
    "data.shape"
   ]
  },
  {
   "cell_type": "code",
   "execution_count": 6,
   "id": "11b45588-522a-4d3c-8509-9749f7d3c4d5",
   "metadata": {},
   "outputs": [
    {
     "name": "stdout",
     "output_type": "stream",
     "text": [
      "Number of unique values in 'company_name_encoded' column: 8971\n",
      "Number of unique values in 'status_label_encoded' column: 2\n",
      "Number of unique values in 'Division_encoded' column: 10\n",
      "Number of unique values in 'MajorGroup_encoded' column: 73\n"
     ]
    }
   ],
   "source": [
    "unique_company_names = data['company_name_encoded'].nunique()\n",
    "unique_status_labels = data['status_label_encoded'].nunique()\n",
    "unique_divisions = data['Division_encoded'].nunique()\n",
    "unique_majorgroup = data['MajorGroup_encoded'].nunique()\n",
    "\n",
    "print(\"Number of unique values in 'company_name_encoded' column:\", unique_company_names)\n",
    "print(\"Number of unique values in 'status_label_encoded' column:\", unique_status_labels)\n",
    "print(\"Number of unique values in 'Division_encoded' column:\", unique_divisions)\n",
    "print(\"Number of unique values in 'MajorGroup_encoded' column:\", unique_majorgroup)\n"
   ]
  },
  {
   "cell_type": "code",
   "execution_count": 7,
   "id": "e1abf0ae-6966-43bc-a652-7523ee634cb3",
   "metadata": {},
   "outputs": [
    {
     "name": "stdout",
     "output_type": "stream",
     "text": [
      "Unique values in 'Division_encoded' column: [3 4 2 8 5 6 1 0 7 9]\n"
     ]
    }
   ],
   "source": [
    "unique_divisions = data['Division_encoded'].unique()\n",
    "print(\"Unique values in 'Division_encoded' column:\", unique_divisions)\n"
   ]
  },
  {
   "cell_type": "code",
   "execution_count": 8,
   "id": "381247f3-2cdf-4adf-b51a-e16ec84e1347",
   "metadata": {},
   "outputs": [
    {
     "name": "stdout",
     "output_type": "stream",
     "text": [
      "Number of rows with missing values: 3993\n"
     ]
    }
   ],
   "source": [
    "missing_rows_count = data.isnull().any(axis=1).sum()\n",
    "print(\"Number of rows with missing values:\", missing_rows_count)\n"
   ]
  },
  {
   "cell_type": "code",
   "execution_count": 9,
   "id": "b98d5d1a-22e0-4ee6-8fc9-f156a2a97b46",
   "metadata": {},
   "outputs": [
    {
     "data": {
      "text/plain": [
       "(4978, 91)"
      ]
     },
     "execution_count": 9,
     "metadata": {},
     "output_type": "execute_result"
    }
   ],
   "source": [
    "# Delete rows with missing values\n",
    "data_cleaned = data.dropna()\n",
    "# Delete non-numeric columns that are not encoded\n",
    "# List of static columns to drop\n",
    "static_columns_to_drop = [\n",
    "    'company_name', 'status_label', 'Division', 'MajorGroup', 'last_year', 'company_name_encoded',\n",
    "    'Division_encoded', 'MajorGroup_encoded'\n",
    "]\n",
    "\n",
    "# List of dynamic columns to drop (nyse and nasdaq columns for 1 year and 2 years)\n",
    "nyse_nasdaq_columns_to_drop = [f'{exchange}_last{year}year' for exchange in ('nyse', 'nasdaq') for year in (1, 2, 3, 4, 5)]\n",
    "\n",
    "# Add X1_last1year_ycr to X18_last1year_ycr and X1_last2year_ycr to X18_last2year_ycr columns to the list\n",
    "ycr_columns_to_drop = [f'X{i}_last{year}year_ycr' for i in range(1, 19) for year in (1, 2, 3, 4, 5)]\n",
    "\n",
    "# Combine all columns to drop\n",
    "columns_to_drop = static_columns_to_drop + nyse_nasdaq_columns_to_drop + ycr_columns_to_drop\n",
    "\n",
    "# Drop the columns from the data\n",
    "data_cleaned = data_cleaned.drop(columns=columns_to_drop)\n",
    "\n",
    "\n",
    "\n",
    "data_cleaned.shape"
   ]
  },
  {
   "cell_type": "code",
   "execution_count": 10,
   "id": "22f1ba13-272c-4957-96db-dd37c4602510",
   "metadata": {},
   "outputs": [
    {
     "data": {
      "text/plain": [
       "<bound method NDFrame.head of       X1_last1year  X1_last2year  X1_last3year  X1_last4year  X1_last5year  \\\n",
       "0           942.70        888.50       873.100         954.1      1116.900   \n",
       "1          1107.70        900.20      1077.400        1008.2       942.700   \n",
       "3        581502.00     353541.00   1037047.000      672072.0       692.991   \n",
       "5          6838.00       6642.00      5935.000        7229.0      6902.000   \n",
       "6        160865.00     173942.00    212978.000      228456.0    142967.000   \n",
       "...            ...           ...           ...           ...           ...   \n",
       "8959       8218.00         21.33     16699.000       18523.0     16814.000   \n",
       "8963        362.33     310358.00    405282.000      359824.0    331465.000   \n",
       "8965      22026.00      26515.00        13.256        1801.0      5941.000   \n",
       "8966      10566.00      11738.00      9599.000        9789.0     11645.000   \n",
       "8969        931.60       1032.70       829.300         735.1       973.800   \n",
       "\n",
       "      X2_last1year  X2_last2year  X2_last3year  X2_last4year  X2_last5year  \\\n",
       "0           1524.7      1504.100      1442.100        1515.0      2199.500   \n",
       "1           1474.5      1343.600      1921.000        1764.8      1611.400   \n",
       "3        1288165.0    927239.000      1623.383     2003842.0   2329268.000   \n",
       "5          25088.0     25438.000     25175.000       28571.0     29145.000   \n",
       "6         392582.0    438549.000    498634.000      598819.0    414365.000   \n",
       "...            ...           ...           ...           ...           ...   \n",
       "8959       10814.0        24.830     25102.000       28339.0     28369.000   \n",
       "8963      471155.0       425.563    529043.000      489109.0       461.488   \n",
       "8965       28813.0     36646.000     19899.000       16574.0     23139.000   \n",
       "8966       28278.0     26206.000     23442.000       22757.0     24283.000   \n",
       "8969        2810.2      2542.000      2247.400        2285.3      2015.900   \n",
       "\n",
       "      ...  X17_last2year  X17_last3year  X17_last4year  X17_last5year  \\\n",
       "0     ...         1767.6         1662.6        1594.30         2035.0   \n",
       "1     ...          996.7         1456.4        1322.20         1281.9   \n",
       "3     ...       653828.0       553617.0        1339.48      1297285.0   \n",
       "5     ...        19917.0        23766.0       22896.00        22563.0   \n",
       "6     ...       345051.0       417011.0      367422.00       263217.0   \n",
       "...   ...            ...            ...            ...            ...   \n",
       "8959  ...        36839.0        39738.0       41231.00        55284.0   \n",
       "8963  ...       275026.0       253193.0      299611.00       341838.0   \n",
       "8965  ...        47824.0         6574.0         932.00          628.0   \n",
       "8966  ...        34484.0        29183.0       32735.00        45608.0   \n",
       "8969  ...         2408.2         2238.0        2068.10         2118.3   \n",
       "\n",
       "      X18_last1year  X18_last2year  X18_last3year  X18_last4year  \\\n",
       "0          1621.800         1619.4        1525.70         1510.6   \n",
       "1          1035.200          912.0        1283.10         1154.3   \n",
       "3           681.609       514914.0      390516.00      1185651.0   \n",
       "5         20867.000        19655.0       23256.00        20803.0   \n",
       "6        310005.000       316986.0      360792.00       322251.0   \n",
       "...             ...            ...            ...            ...   \n",
       "8959      34037.000        44487.0       47651.00        46983.0   \n",
       "8963     216602.000       253495.0      205824.00       242535.0   \n",
       "8965      49355.000        64084.0          21.19        13011.0   \n",
       "8966      32459.000        27850.0       23059.00        25531.0   \n",
       "8969       2112.700         1840.9        1748.00         1624.0   \n",
       "\n",
       "      X18_last5year  status_label_encoded  \n",
       "0            1779.0                     0  \n",
       "1            1141.5                     0  \n",
       "3         1142057.0                     0  \n",
       "5           20346.0                     1  \n",
       "6          227617.0                     0  \n",
       "...             ...                   ...  \n",
       "8959        57025.0                     0  \n",
       "8963       276704.0                     0  \n",
       "8965        15996.0                     0  \n",
       "8966        38905.0                     0  \n",
       "8969         1679.0                     0  \n",
       "\n",
       "[4978 rows x 91 columns]>"
      ]
     },
     "execution_count": 10,
     "metadata": {},
     "output_type": "execute_result"
    }
   ],
   "source": [
    "data_cleaned.head"
   ]
  },
  {
   "cell_type": "code",
   "execution_count": 11,
   "id": "89dd5f1e-dc82-4769-b937-5bb68e3d9f31",
   "metadata": {},
   "outputs": [
    {
     "name": "stdout",
     "output_type": "stream",
     "text": [
      "0    4548\n",
      "1     430\n",
      "Name: status_label_encoded, dtype: int64\n"
     ]
    }
   ],
   "source": [
    "status_counts = data_cleaned['status_label_encoded'].value_counts()\n",
    "print(status_counts)\n"
   ]
  },
  {
   "cell_type": "markdown",
   "id": "6a330463-b2f8-4aa1-85a6-f2ad40621a69",
   "metadata": {},
   "source": [
    "### 1. RF"
   ]
  },
  {
   "cell_type": "code",
   "execution_count": 12,
   "id": "8f159c74-a2f6-46b8-b156-d9db13dd3a57",
   "metadata": {},
   "outputs": [],
   "source": [
    "#the impact of imbalanced datasets\n"
   ]
  },
  {
   "cell_type": "markdown",
   "id": "317d5616-60a7-4288-b8a2-6630bd5fbe7d",
   "metadata": {},
   "source": [
    "#### 1.1 imbalance dataset + CV"
   ]
  },
  {
   "cell_type": "code",
   "execution_count": 13,
   "id": "90fff82c-02bc-4660-86fb-87d2b8ed60f3",
   "metadata": {},
   "outputs": [
    {
     "name": "stdout",
     "output_type": "stream",
     "text": [
      "Validation Accuracy: 0.9096385542168675\n",
      "Cross-validation Scores: [0.91969887 0.91844417 0.91834171 0.92336683 0.91582915]\n",
      "Mean CV Accuracy: 0.919136144965732\n",
      "Test Accuracy: 0.9056224899598394\n"
     ]
    }
   ],
   "source": [
    "from sklearn.model_selection import train_test_split, cross_val_score\n",
    "from sklearn.ensemble import RandomForestClassifier\n",
    "from sklearn.metrics import accuracy_score\n",
    "\n",
    "# Split the dataset into features and labels\n",
    "X = data_cleaned.drop('status_label_encoded', axis=1)\n",
    "y = data_cleaned['status_label_encoded']\n",
    "\n",
    "# Split the data set into training set, validation set and test set\n",
    "X_train_val, X_test, y_train_val, y_test = train_test_split(X, y, test_size=0.2, random_state=42)\n",
    "X_train, X_val, y_train, y_val = train_test_split(X_train_val, y_train_val, test_size=0.25, random_state=42)  # 80% training, 20% validation\n",
    "\n",
    "# Define a random forest classifier\n",
    "rf_classifier = RandomForestClassifier(n_estimators=100, random_state=42)\n",
    "# Train the model on the training set\n",
    "rf_classifier.fit(X_train, y_train)\n",
    "\n",
    "# Make predictions on the validation set\n",
    "val_predictions = rf_classifier.predict(X_val)\n",
    "# Calculate accuracy on validation set\n",
    "val_accuracy = accuracy_score(y_val, val_predictions)\n",
    "print(\"Validation Accuracy:\", val_accuracy)\n",
    "\n",
    "# Perform cross-validation on the training set\n",
    "cv_scores = cross_val_score(rf_classifier, X_train_val, y_train_val, cv=5)\n",
    "# Print cross-validation scores\n",
    "print(\"Cross-validation Scores:\", cv_scores)\n",
    "print(\"Mean CV Accuracy:\", cv_scores.mean())\n",
    "# Retrain the model on the entire training set\n",
    "\n",
    "\n",
    "# Make predictions on the test set\n",
    "test_predictions = rf_classifier.predict(X_test)\n",
    "# Calculate accuracy on test set\n",
    "test_accuracy = accuracy_score(y_test, test_predictions)\n",
    "print(\"Test Accuracy:\", test_accuracy)\n"
   ]
  },
  {
   "cell_type": "code",
   "execution_count": 14,
   "id": "ef9d866c-bd00-40bf-9b07-b63d8c2b2bd4",
   "metadata": {},
   "outputs": [
    {
     "name": "stdout",
     "output_type": "stream",
     "text": [
      "Accuracy: 0.9056224899598394\n",
      "Precision: 1.0\n",
      "Recall: 0.030927835051546393\n",
      "F1 Score: 0.06000000000000001\n",
      "Micro F1 Score: 0.9056224899598394\n",
      "Macro F1 Score: 0.5051585623678647\n",
      "ROC AUC: 0.8017958097771866\n",
      "Confusion Matrix:\n",
      "[[899   0]\n",
      " [ 94   3]]\n"
     ]
    }
   ],
   "source": [
    "from sklearn.metrics import accuracy_score, precision_score, recall_score, f1_score, roc_auc_score, precision_recall_curve, roc_curve, confusion_matrix\n",
    "\n",
    "# Calculate accuracy\n",
    "accuracy = accuracy_score(y_test, test_predictions)\n",
    "print(\"Accuracy:\", accuracy)\n",
    "\n",
    "# Calculation precision\n",
    "precision = precision_score(y_test, test_predictions)\n",
    "print(\"Precision:\", precision)\n",
    "\n",
    "# Calculate recall\n",
    "recall = recall_score(y_test, test_predictions)\n",
    "print(\"Recall:\", recall)\n",
    "\n",
    "# Calculate F1 score\n",
    "f1 = f1_score(y_test, test_predictions)\n",
    "print(\"F1 Score:\", f1)\n",
    "\n",
    "# Calculate micro F1 score\n",
    "micro_f1 = f1_score(y_test, test_predictions, average='micro')\n",
    "print(\"Micro F1 Score:\", micro_f1)\n",
    "\n",
    "# Calculate macro F1 score\n",
    "macro_f1 = f1_score(y_test, test_predictions, average='macro')\n",
    "print(\"Macro F1 Score:\", macro_f1)\n",
    "\n",
    "# Calculate ROC AUC\n",
    "y_prob = rf_classifier.predict_proba(X_test)[:, 1]\n",
    "roc_auc = roc_auc_score(y_test, y_prob)\n",
    "print(\"ROC AUC:\", roc_auc)\n",
    "\n",
    "# Calculate confusion matrix\n",
    "conf_matrix = confusion_matrix(y_test, test_predictions)\n",
    "print(\"Confusion Matrix:\")\n",
    "print(conf_matrix)\n"
   ]
  },
  {
   "cell_type": "code",
   "execution_count": null,
   "id": "9228af36-d91a-44b9-ba3c-a77f93a903ae",
   "metadata": {},
   "outputs": [],
   "source": []
  },
  {
   "cell_type": "markdown",
   "id": "80fd8821-7338-45dc-a3e0-949fefa793bc",
   "metadata": {},
   "source": [
    "### 2. XGBOOST"
   ]
  },
  {
   "cell_type": "code",
   "execution_count": 15,
   "id": "ca37366c-2d39-4c57-9288-5724a2d0fe97",
   "metadata": {},
   "outputs": [],
   "source": [
    "#2.1 imbalance\n"
   ]
  },
  {
   "cell_type": "code",
   "execution_count": 16,
   "id": "775f5465-3caa-4d00-908a-bdff4eecaab1",
   "metadata": {},
   "outputs": [
    {
     "name": "stdout",
     "output_type": "stream",
     "text": [
      "[0]\ttrain-logloss:0.28763\teval-logloss:0.32017\n",
      "[1]\ttrain-logloss:0.27137\teval-logloss:0.31328\n",
      "[2]\ttrain-logloss:0.25712\teval-logloss:0.30571\n",
      "[3]\ttrain-logloss:0.24361\teval-logloss:0.29950\n",
      "[4]\ttrain-logloss:0.23155\teval-logloss:0.29406\n",
      "[5]\ttrain-logloss:0.21920\teval-logloss:0.28809\n",
      "[6]\ttrain-logloss:0.20817\teval-logloss:0.28323\n",
      "[7]\ttrain-logloss:0.19832\teval-logloss:0.27977\n",
      "[8]\ttrain-logloss:0.18925\teval-logloss:0.27610\n",
      "[9]\ttrain-logloss:0.17997\teval-logloss:0.27254\n",
      "[10]\ttrain-logloss:0.17130\teval-logloss:0.26895\n",
      "[11]\ttrain-logloss:0.16346\teval-logloss:0.26575\n",
      "[12]\ttrain-logloss:0.15576\teval-logloss:0.26280\n",
      "[13]\ttrain-logloss:0.14890\teval-logloss:0.26017\n",
      "[14]\ttrain-logloss:0.14282\teval-logloss:0.25904\n",
      "[15]\ttrain-logloss:0.13699\teval-logloss:0.25768\n",
      "[16]\ttrain-logloss:0.13169\teval-logloss:0.25650\n",
      "[17]\ttrain-logloss:0.12647\teval-logloss:0.25572\n",
      "[18]\ttrain-logloss:0.12129\teval-logloss:0.25478\n",
      "[19]\ttrain-logloss:0.11670\teval-logloss:0.25296\n",
      "[20]\ttrain-logloss:0.11222\teval-logloss:0.25218\n",
      "[21]\ttrain-logloss:0.10791\teval-logloss:0.25069\n",
      "[22]\ttrain-logloss:0.10380\teval-logloss:0.25027\n",
      "[23]\ttrain-logloss:0.10000\teval-logloss:0.24990\n",
      "[24]\ttrain-logloss:0.09628\teval-logloss:0.24899\n",
      "[25]\ttrain-logloss:0.09297\teval-logloss:0.24869\n",
      "[26]\ttrain-logloss:0.08969\teval-logloss:0.24864\n",
      "[27]\ttrain-logloss:0.08656\teval-logloss:0.24764\n",
      "[28]\ttrain-logloss:0.08375\teval-logloss:0.24761\n",
      "[29]\ttrain-logloss:0.08088\teval-logloss:0.24646\n",
      "[30]\ttrain-logloss:0.07819\teval-logloss:0.24630\n",
      "[31]\ttrain-logloss:0.07558\teval-logloss:0.24660\n",
      "[32]\ttrain-logloss:0.07306\teval-logloss:0.24652\n",
      "[33]\ttrain-logloss:0.07076\teval-logloss:0.24623\n",
      "[34]\ttrain-logloss:0.06859\teval-logloss:0.24567\n",
      "[35]\ttrain-logloss:0.06640\teval-logloss:0.24578\n",
      "[36]\ttrain-logloss:0.06443\teval-logloss:0.24550\n",
      "[37]\ttrain-logloss:0.06260\teval-logloss:0.24565\n",
      "[38]\ttrain-logloss:0.06068\teval-logloss:0.24595\n",
      "[39]\ttrain-logloss:0.05896\teval-logloss:0.24646\n",
      "[40]\ttrain-logloss:0.05712\teval-logloss:0.24662\n",
      "[41]\ttrain-logloss:0.05549\teval-logloss:0.24668\n",
      "[42]\ttrain-logloss:0.05374\teval-logloss:0.24663\n",
      "[43]\ttrain-logloss:0.05230\teval-logloss:0.24700\n",
      "[44]\ttrain-logloss:0.05079\teval-logloss:0.24722\n",
      "[45]\ttrain-logloss:0.04931\teval-logloss:0.24766\n",
      "[46]\ttrain-logloss:0.04803\teval-logloss:0.24847\n",
      "Test Accuracy: 0.9106425702811245\n"
     ]
    }
   ],
   "source": [
    "from imblearn.over_sampling import SMOTE\n",
    "from sklearn.model_selection import train_test_split\n",
    "from sklearn.metrics import accuracy_score\n",
    "import xgboost as xgb\n",
    "import pandas as pd\n",
    "\n",
    "# Split the dataset into features and labels\n",
    "X = data_cleaned.drop('status_label_encoded', axis=1)\n",
    "y = data_cleaned['status_label_encoded']\n",
    "\n",
    "# Split the data into training + validation and testing sets\n",
    "X_train_val, X_test, y_train_val, y_test = train_test_split(X, y, test_size=0.2, random_state=42)\n",
    "# Further split the training + validation set into training and validation sets\n",
    "X_train, X_val, y_train, y_val = train_test_split(X_train_val, y_train_val, test_size=0.25, random_state=42)\n",
    "\n",
    "\n",
    "# Convert data to DMatrix format for XGBoost\n",
    "dtrain = xgb.DMatrix(X_train, label=y_train)\n",
    "dval = xgb.DMatrix(X_val, label=y_val)\n",
    "dtest = xgb.DMatrix(X_test, label=y_test)\n",
    "\n",
    "params = {\n",
    "    'objective': 'binary:logistic',  # Binary classification\n",
    "    'eval_metric': 'logloss',         # Logarithmic loss\n",
    "    'eta': 0.07,                       # Learning rate\n",
    "    'max_depth': 60,                   # Maximum depth of the tree\n",
    "    'subsample': 0.9,                 # Subsample ratio of the training instances\n",
    "    'colsample_bytree': 0.9,          # Subsample ratio of columns when constructing each tree\n",
    "    'lambda': 1,                      # L2 regularization term (default is 1)\n",
    "    'alpha': 0,                       # L1 regularization term (default is 0)\n",
    "    'seed': 42                        # Random seed\n",
    "}\n",
    "\n",
    "# Train XGBoost model\n",
    "num_rounds = 100\n",
    "watchlist = [(dtrain, 'train'), (dval, 'eval')]\n",
    "xgb_model = xgb.train(params, dtrain, num_rounds, evals=watchlist, early_stopping_rounds=10)\n",
    "\n",
    "# Make predictions on the test set\n",
    "test_predictions_proba = xgb_model.predict(dtest)\n",
    "test_predictions = [1 if x > 0.5 else 0 for x in test_predictions_proba]\n",
    "\n",
    "# Calculate accuracy on test set\n",
    "test_accuracy = accuracy_score(y_test, test_predictions)\n",
    "print(\"Test Accuracy:\", test_accuracy)\n"
   ]
  },
  {
   "cell_type": "code",
   "execution_count": 17,
   "id": "0b2d1469-e2c3-4039-b7cb-448d7139d0b1",
   "metadata": {},
   "outputs": [
    {
     "name": "stdout",
     "output_type": "stream",
     "text": [
      "Accuracy: 0.9106425702811245\n",
      "Precision: 0.75\n",
      "Recall: 0.12371134020618557\n",
      "F1 Score: 0.21238938053097345\n",
      "Micro F1 Score: 0.9106425702811245\n",
      "Macro F1 Score: 0.5825118802601648\n",
      "ROC AUC: 0.7933327981835486\n",
      "Confusion Matrix:\n",
      "[[895   4]\n",
      " [ 85  12]]\n"
     ]
    }
   ],
   "source": [
    "from sklearn.metrics import accuracy_score, precision_score, recall_score, f1_score, roc_auc_score, confusion_matrix\n",
    "\n",
    "# Calculate accuracy\n",
    "accuracy = accuracy_score(y_test, test_predictions)\n",
    "print(\"Accuracy:\", accuracy)\n",
    "\n",
    "# Calculate precision\n",
    "precision = precision_score(y_test, test_predictions)\n",
    "print(\"Precision:\", precision)\n",
    "\n",
    "# Calculate recall\n",
    "recall = recall_score(y_test, test_predictions)\n",
    "print(\"Recall:\", recall)\n",
    "\n",
    "# Calculate F1 score\n",
    "f1 = f1_score(y_test, test_predictions)\n",
    "print(\"F1 Score:\", f1)\n",
    "\n",
    "# Calculate micro F1 score\n",
    "micro_f1 = f1_score(y_test, test_predictions, average='micro')\n",
    "print(\"Micro F1 Score:\", micro_f1)\n",
    "\n",
    "# Calculate macro F1 score\n",
    "macro_f1 = f1_score(y_test, test_predictions, average='macro')\n",
    "print(\"Macro F1 Score:\", macro_f1)\n",
    "\n",
    "# Calculate ROC AUC\n",
    "roc_auc = roc_auc_score(y_test, test_predictions_proba)\n",
    "print(\"ROC AUC:\", roc_auc)\n",
    "\n",
    "# Calculate confusion matrix\n",
    "conf_matrix = confusion_matrix(y_test, test_predictions)\n",
    "print(\"Confusion Matrix:\")\n",
    "print(conf_matrix)\n"
   ]
  },
  {
   "cell_type": "markdown",
   "id": "df4285d6-d191-459f-82e5-af2d11884f3f",
   "metadata": {
    "tags": []
   },
   "source": [
    "### 3. GB\n"
   ]
  },
  {
   "cell_type": "code",
   "execution_count": 18,
   "id": "59a6df05-e8a0-4152-8526-eabb0e804e00",
   "metadata": {},
   "outputs": [],
   "source": [
    "#imbalance+cv"
   ]
  },
  {
   "cell_type": "code",
   "execution_count": 19,
   "id": "8f705495-0cf3-4d0c-891d-ccd5586d0ba8",
   "metadata": {},
   "outputs": [
    {
     "name": "stdout",
     "output_type": "stream",
     "text": [
      "Validation Accuracy: 0.9126506024096386\n",
      "Cross-validation Scores: [0.91593476 0.92095358 0.92085427 0.92713568 0.9258794 ]\n",
      "Mean CV Accuracy: 0.9221515355951653\n",
      "Test Accuracy: 0.9106425702811245\n"
     ]
    }
   ],
   "source": [
    "from sklearn.model_selection import train_test_split, cross_val_score\n",
    "from sklearn.metrics import accuracy_score\n",
    "from sklearn.ensemble import GradientBoostingClassifier\n",
    "from sklearn.tree import DecisionTreeClassifier\n",
    "import pandas as pd\n",
    "\n",
    "# Split the dataset into features and labels\n",
    "X = data_cleaned.drop('status_label_encoded', axis=1)\n",
    "y = data_cleaned['status_label_encoded']\n",
    "\n",
    "# Split the data into training + validation and testing sets\n",
    "X_train_val, X_test, y_train_val, y_test = train_test_split(X, y, test_size=0.2, random_state=42)\n",
    "# Further split the training + validation set into training and validation sets\n",
    "X_train, X_val, y_train, y_val = train_test_split(X_train_val, y_train_val, test_size=0.25, random_state=42)\n",
    "\n",
    "# Define a Gradient Boosting classifier\n",
    "gb_classifier = GradientBoostingClassifier(n_estimators=100, max_depth=10, random_state=42)\n",
    "\n",
    "# Train Gradient Boosting model\n",
    "gb_classifier.fit(X_train, y_train)\n",
    "\n",
    "# Make predictions on the validation set\n",
    "val_predictions = gb_classifier.predict(X_val)\n",
    "# Calculate accuracy on validation set\n",
    "val_accuracy = accuracy_score(y_val, val_predictions)\n",
    "print(\"Validation Accuracy:\", val_accuracy)\n",
    "\n",
    "# Perform cross-validation on the train_val set\n",
    "cv_scores = cross_val_score(gb_classifier, X_train_val, y_train_val, cv=5)\n",
    "# Print cross-validat ion scores\n",
    "print(\"Cross-validation Scores:\", cv_scores)\n",
    "print(\"Mean CV Accuracy:\", cv_scores.mean())\n",
    "\n",
    "\n",
    "# Make predictions on the test set\n",
    "test_predictions = gb_classifier.predict(X_test)\n",
    "# Calculate accuracy on test set\n",
    "test_accuracy = accuracy_score(y_test, test_predictions)\n",
    "print(\"Test Accuracy:\", test_accuracy)\n"
   ]
  },
  {
   "cell_type": "code",
   "execution_count": 20,
   "id": "de63fad9-a98d-4af8-b0df-df411118d900",
   "metadata": {},
   "outputs": [
    {
     "name": "stdout",
     "output_type": "stream",
     "text": [
      "Micro F1 Score: 0.9106425702811245\n",
      "Macro F1 Score: 0.6022917442470849\n",
      "Test Accuracy: 0.9106425702811245\n",
      "Precision: 0.6818181818181818\n",
      "Recall: 0.15463917525773196\n",
      "F1 Score: 0.25210084033613445\n",
      "ROC AUC Score: 0.797403759044987\n",
      "Confusion Matrix:\n",
      " [[892   7]\n",
      " [ 82  15]]\n"
     ]
    }
   ],
   "source": [
    "from sklearn.metrics import precision_score, recall_score, f1_score, roc_auc_score, confusion_matrix\n",
    "\n",
    "# Calculate accuracy on test set\n",
    "test_accuracy = accuracy_score(y_test, test_predictions)\n",
    "\n",
    "# Calculate precision\n",
    "precision = precision_score(y_test, test_predictions)\n",
    "\n",
    "# Calculate recall\n",
    "recall = recall_score(y_test, test_predictions)\n",
    "\n",
    "# Calculate F1 score\n",
    "f1 = f1_score(y_test, test_predictions)\n",
    "\n",
    "# Calculate micro F1 score\n",
    "micro_f1 = f1_score(y_test, test_predictions, average='micro')\n",
    "print(\"Micro F1 Score:\", micro_f1)\n",
    "\n",
    "# Calculate macro F1 score\n",
    "macro_f1 = f1_score(y_test, test_predictions, average='macro')\n",
    "print(\"Macro F1 Score:\", macro_f1)\n",
    "\n",
    "# Calculate ROC AUC score\n",
    "test_predictions_proba = gb_classifier.predict_proba(X_test)[:, 1]  # Probabilities for positive class\n",
    "roc_auc = roc_auc_score(y_test, test_predictions_proba)\n",
    "\n",
    "# Calculate confusion matrix\n",
    "conf_matrix = confusion_matrix(y_test, test_predictions)\n",
    "\n",
    "print(\"Test Accuracy:\", test_accuracy)\n",
    "print(\"Precision:\", precision)\n",
    "print(\"Recall:\", recall)\n",
    "print(\"F1 Score:\", f1)\n",
    "print(\"ROC AUC Score:\", roc_auc)\n",
    "print(\"Confusion Matrix:\\n\", conf_matrix)\n"
   ]
  },
  {
   "cell_type": "markdown",
   "id": "fae3d2bb-3c16-4a4c-b420-d4e68d1a1d67",
   "metadata": {},
   "source": [
    "### 4. Bagging"
   ]
  },
  {
   "cell_type": "code",
   "execution_count": 21,
   "id": "76fec8a7-10c8-4b9e-acb9-a491bb6c1307",
   "metadata": {},
   "outputs": [],
   "source": [
    "# imbalanced + cv"
   ]
  },
  {
   "cell_type": "code",
   "execution_count": 22,
   "id": "b68ffc93-9a1e-4c8c-b462-54a154606896",
   "metadata": {},
   "outputs": [
    {
     "name": "stdout",
     "output_type": "stream",
     "text": [
      "Validation Accuracy: 0.9086345381526104\n",
      "Cross-validation Scores: [0.92095358 0.92471769 0.92462312 0.92211055 0.9258794 ]\n",
      "Mean CV Accuracy: 0.9236568665157658\n",
      "Test Accuracy: 0.9136546184738956\n"
     ]
    }
   ],
   "source": [
    "from sklearn.model_selection import train_test_split, cross_val_score\n",
    "from sklearn.ensemble import BaggingClassifier\n",
    "from xgboost import XGBClassifier\n",
    "from sklearn.metrics import accuracy_score\n",
    "\n",
    "# Split the dataset into features and labels\n",
    "X = data_cleaned.drop('status_label_encoded', axis=1)\n",
    "y = data_cleaned['status_label_encoded']\n",
    "\n",
    "# Split the data set into training set, validation set and test set\n",
    "X_train_val, X_test, y_train_val, y_test = train_test_split(X, y, test_size=0.2, random_state=42)\n",
    "X_train, X_val, y_train, y_val = train_test_split(X_train_val, y_train_val, test_size=0.25, random_state=42)  # 80% training, 20% validation\n",
    "\n",
    "# Define a XGBoost base estimator\n",
    "base_estimator = XGBClassifier(n_estimators=100, random_state=42)  #better than base_estimator=DecisionTreeClassifier\n",
    "# Define a bagging classifier\n",
    "bagging_classifier = BaggingClassifier(base_estimator=base_estimator, n_estimators=10, random_state=42)\n",
    "\n",
    "# Train the model on the training set\n",
    "bagging_classifier.fit(X_train, y_train)\n",
    "\n",
    "# Make predictions on the validation set\n",
    "val_predictions = bagging_classifier.predict(X_val)\n",
    "# Calculate accuracy on validation set\n",
    "val_accuracy = accuracy_score(y_val, val_predictions)\n",
    "print(\"Validation Accuracy:\", val_accuracy)\n",
    "\n",
    "# Perform cross-validation on the train_val set\n",
    "cv_scores = cross_val_score(bagging_classifier, X_train_val, y_train_val, cv=5)\n",
    "# Print cross-validation scores\n",
    "print(\"Cross-validation Scores:\", cv_scores)\n",
    "print(\"Mean CV Accuracy:\", cv_scores.mean())\n",
    "\n",
    "\n",
    "\n",
    "# Make predictions on the test set\n",
    "test_predictions = bagging_classifier.predict(X_test)\n",
    "# Calculate accuracy on test set\n",
    "test_accuracy = accuracy_score(y_test, test_predictions)\n",
    "print(\"Test Accuracy:\", test_accuracy)\n"
   ]
  },
  {
   "cell_type": "code",
   "execution_count": 23,
   "id": "2fa69893-48ae-4ddf-b419-679fb2d92cb5",
   "metadata": {},
   "outputs": [
    {
     "name": "stdout",
     "output_type": "stream",
     "text": [
      "Micro F1 Score: 0.9136546184738956\n",
      "Macro F1 Score: 0.5999103189283113\n",
      "Test Accuracy: 0.9136546184738956\n",
      "Precision: 0.8235294117647058\n",
      "Recall: 0.14432989690721648\n",
      "F1 Score: 0.24561403508771928\n",
      "ROC AUC Score: 0.7999380755249246\n",
      "Confusion Matrix:\n",
      " [[896   3]\n",
      " [ 83  14]]\n"
     ]
    }
   ],
   "source": [
    "from sklearn.metrics import precision_score, recall_score, f1_score, roc_auc_score, confusion_matrix\n",
    "\n",
    "\n",
    "# Calculate accuracy on test set\n",
    "test_accuracy = accuracy_score(y_test, test_predictions)\n",
    "\n",
    "# Calculate precision\n",
    "precision = precision_score(y_test, test_predictions)\n",
    "\n",
    "# Calculate recall\n",
    "recall = recall_score(y_test, test_predictions)\n",
    "\n",
    "# Calculate F1 score\n",
    "f1 = f1_score(y_test, test_predictions)\n",
    "\n",
    "# Calculate micro F1 score\n",
    "micro_f1 = f1_score(y_test, test_predictions, average='micro')\n",
    "print(\"Micro F1 Score:\", micro_f1)\n",
    "\n",
    "# Calculate macro F1 score\n",
    "macro_f1 = f1_score(y_test, test_predictions, average='macro')\n",
    "print(\"Macro F1 Score:\", macro_f1)\n",
    "\n",
    "# Calculate ROC AUC score\n",
    "test_predictions_proba = bagging_classifier.predict_proba(X_test)[:, 1]  # Probabilities for positive class\n",
    "roc_auc = roc_auc_score(y_test, test_predictions_proba)\n",
    "\n",
    "# Calculate confusion matrix\n",
    "conf_matrix = confusion_matrix(y_test, test_predictions)\n",
    "\n",
    "print(\"Test Accuracy:\", test_accuracy)\n",
    "print(\"Precision:\", precision)\n",
    "print(\"Recall:\", recall)\n",
    "print(\"F1 Score:\", f1)\n",
    "print(\"ROC AUC Score:\", roc_auc)\n",
    "print(\"Confusion Matrix:\\n\", conf_matrix)\n"
   ]
  },
  {
   "cell_type": "code",
   "execution_count": null,
   "id": "0ce603e3-5411-43aa-b4f9-e4ce89eb0602",
   "metadata": {},
   "outputs": [],
   "source": []
  }
 ],
 "metadata": {
  "kernelspec": {
   "display_name": "Python 3 (ipykernel)",
   "language": "python",
   "name": "python3"
  },
  "language_info": {
   "codemirror_mode": {
    "name": "ipython",
    "version": 3
   },
   "file_extension": ".py",
   "mimetype": "text/x-python",
   "name": "python",
   "nbconvert_exporter": "python",
   "pygments_lexer": "ipython3",
   "version": "3.9.13"
  }
 },
 "nbformat": 4,
 "nbformat_minor": 5
}
