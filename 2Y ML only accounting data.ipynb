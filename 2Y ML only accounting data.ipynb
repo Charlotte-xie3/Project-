{
 "cells": [
  {
   "cell_type": "code",
   "execution_count": null,
   "id": "d162b6bb-04be-41c3-94af-44ab59e6500d",
   "metadata": {},
   "outputs": [],
   "source": []
  },
  {
   "cell_type": "code",
   "execution_count": null,
   "id": "f00c0043-c7ca-4492-ad2f-cced9d6fae30",
   "metadata": {},
   "outputs": [],
   "source": []
  },
  {
   "cell_type": "code",
   "execution_count": 1,
   "id": "eb2e3631-6704-4cac-8a49-88743235ff8e",
   "metadata": {},
   "outputs": [
    {
     "name": "stdout",
     "output_type": "stream",
     "text": [
      "Number of unique values in 'company_name' column: 8971\n",
      "Number of unique values in 'status_label' column: 2\n",
      "Number of unique values in 'Division' column: 10\n",
      "Number of unique values in 'MajorGroup' column: 73\n",
      "Number of unique values in 'last_year' column: 20\n"
     ]
    }
   ],
   "source": [
    "import pandas as pd\n",
    "\n",
    "# Read the data set\n",
    "data = pd.read_csv(\"new_df_selected2_last2years_adjusted.csv\")\n",
    "\n",
    "unique_company_names = data['company_name'].nunique()\n",
    "unique_status_labels = data['status_label'].nunique()\n",
    "unique_divisions = data['Division'].nunique()\n",
    "unique_majorgroup = data['MajorGroup'].nunique()\n",
    "unique_last_year = data['last_year'].nunique()\n",
    "\n",
    "print(\"Number of unique values in 'company_name' column:\", unique_company_names)\n",
    "print(\"Number of unique values in 'status_label' column:\", unique_status_labels)\n",
    "print(\"Number of unique values in 'Division' column:\", unique_divisions)\n",
    "print(\"Number of unique values in 'MajorGroup' column:\", unique_majorgroup)\n",
    "print(\"Number of unique values in 'last_year' column:\", unique_last_year)\n",
    "\n"
   ]
  },
  {
   "cell_type": "code",
   "execution_count": null,
   "id": "263fa8e8-cf02-4f9e-a23d-74af29abb22c",
   "metadata": {},
   "outputs": [],
   "source": []
  },
  {
   "cell_type": "code",
   "execution_count": 2,
   "id": "0552208d-295c-4128-90b8-ed6e4d3a1494",
   "metadata": {},
   "outputs": [
    {
     "name": "stdout",
     "output_type": "stream",
     "text": [
      "<class 'pandas.core.frame.DataFrame'>\n",
      "RangeIndex: 8971 entries, 0 to 8970\n",
      "Data columns (total 81 columns):\n",
      " #   Column             Non-Null Count  Dtype  \n",
      "---  ------             --------------  -----  \n",
      " 0   company_name       8971 non-null   object \n",
      " 1   status_label       8971 non-null   object \n",
      " 2   Division           8971 non-null   object \n",
      " 3   MajorGroup         8971 non-null   int64  \n",
      " 4   last_year          8971 non-null   float64\n",
      " 5   X1_last1year       8971 non-null   float64\n",
      " 6   X1_last2year       8078 non-null   float64\n",
      " 7   X2_last1year       8971 non-null   float64\n",
      " 8   X2_last2year       8078 non-null   float64\n",
      " 9   X3_last1year       8971 non-null   float64\n",
      " 10  X3_last2year       8078 non-null   float64\n",
      " 11  X4_last1year       8971 non-null   float64\n",
      " 12  X4_last2year       8078 non-null   float64\n",
      " 13  X5_last1year       8971 non-null   float64\n",
      " 14  X5_last2year       8078 non-null   float64\n",
      " 15  X6_last1year       8971 non-null   float64\n",
      " 16  X6_last2year       8078 non-null   float64\n",
      " 17  X7_last1year       8971 non-null   float64\n",
      " 18  X7_last2year       8078 non-null   float64\n",
      " 19  X8_last1year       8971 non-null   float64\n",
      " 20  X8_last2year       8078 non-null   float64\n",
      " 21  X9_last1year       8971 non-null   float64\n",
      " 22  X9_last2year       8078 non-null   float64\n",
      " 23  X10_last1year      8971 non-null   float64\n",
      " 24  X10_last2year      8078 non-null   float64\n",
      " 25  X11_last1year      8971 non-null   float64\n",
      " 26  X11_last2year      8078 non-null   float64\n",
      " 27  X12_last1year      8971 non-null   float64\n",
      " 28  X12_last2year      8078 non-null   float64\n",
      " 29  X13_last1year      8971 non-null   float64\n",
      " 30  X13_last2year      8078 non-null   float64\n",
      " 31  X14_last1year      8971 non-null   float64\n",
      " 32  X14_last2year      8078 non-null   float64\n",
      " 33  X15_last1year      8971 non-null   float64\n",
      " 34  X15_last2year      8078 non-null   float64\n",
      " 35  X16_last1year      8971 non-null   float64\n",
      " 36  X16_last2year      8078 non-null   float64\n",
      " 37  X17_last1year      8971 non-null   float64\n",
      " 38  X17_last2year      8078 non-null   float64\n",
      " 39  X18_last1year      8971 non-null   float64\n",
      " 40  X18_last2year      8078 non-null   float64\n",
      " 41  X1_last1year_ycr   8078 non-null   float64\n",
      " 42  X1_last2year_ycr   7101 non-null   float64\n",
      " 43  X2_last1year_ycr   8078 non-null   float64\n",
      " 44  X2_last2year_ycr   7101 non-null   float64\n",
      " 45  X3_last1year_ycr   8078 non-null   float64\n",
      " 46  X3_last2year_ycr   7101 non-null   float64\n",
      " 47  X4_last1year_ycr   8078 non-null   float64\n",
      " 48  X4_last2year_ycr   7101 non-null   float64\n",
      " 49  X5_last1year_ycr   8078 non-null   float64\n",
      " 50  X5_last2year_ycr   7101 non-null   float64\n",
      " 51  X6_last1year_ycr   8078 non-null   float64\n",
      " 52  X6_last2year_ycr   7101 non-null   float64\n",
      " 53  X7_last1year_ycr   8078 non-null   float64\n",
      " 54  X7_last2year_ycr   7101 non-null   float64\n",
      " 55  X8_last1year_ycr   8078 non-null   float64\n",
      " 56  X8_last2year_ycr   7101 non-null   float64\n",
      " 57  X9_last1year_ycr   8078 non-null   float64\n",
      " 58  X9_last2year_ycr   7101 non-null   float64\n",
      " 59  X10_last1year_ycr  8078 non-null   float64\n",
      " 60  X10_last2year_ycr  7101 non-null   float64\n",
      " 61  X11_last1year_ycr  8078 non-null   float64\n",
      " 62  X11_last2year_ycr  7101 non-null   float64\n",
      " 63  X12_last1year_ycr  8078 non-null   float64\n",
      " 64  X12_last2year_ycr  7101 non-null   float64\n",
      " 65  X13_last1year_ycr  8078 non-null   float64\n",
      " 66  X13_last2year_ycr  7101 non-null   float64\n",
      " 67  X14_last1year_ycr  8078 non-null   float64\n",
      " 68  X14_last2year_ycr  7101 non-null   float64\n",
      " 69  X15_last1year_ycr  8078 non-null   float64\n",
      " 70  X15_last2year_ycr  7101 non-null   float64\n",
      " 71  X16_last1year_ycr  8078 non-null   float64\n",
      " 72  X16_last2year_ycr  7101 non-null   float64\n",
      " 73  X17_last1year_ycr  8078 non-null   float64\n",
      " 74  X17_last2year_ycr  7101 non-null   float64\n",
      " 75  X18_last1year_ycr  8078 non-null   float64\n",
      " 76  X18_last2year_ycr  7101 non-null   float64\n",
      " 77  nyse_last1year     8971 non-null   float64\n",
      " 78  nyse_last2year     8496 non-null   float64\n",
      " 79  nasdaq_last1year   8971 non-null   float64\n",
      " 80  nasdaq_last2year   8496 non-null   float64\n",
      "dtypes: float64(77), int64(1), object(3)\n",
      "memory usage: 5.5+ MB\n"
     ]
    }
   ],
   "source": [
    "data.info()"
   ]
  },
  {
   "cell_type": "code",
   "execution_count": 3,
   "id": "cc4a5663-66c6-4f87-84bb-ff9ab875eba4",
   "metadata": {},
   "outputs": [
    {
     "name": "stderr",
     "output_type": "stream",
     "text": [
      "D:\\Anaconda\\lib\\site-packages\\scipy\\__init__.py:155: UserWarning: A NumPy version >=1.18.5 and <1.25.0 is required for this version of SciPy (detected version 1.26.4\n",
      "  warnings.warn(f\"A NumPy version >={np_minversion} and <{np_maxversion}\"\n"
     ]
    },
    {
     "name": "stdout",
     "output_type": "stream",
     "text": [
      "  company_name status_label Division  MajorGroup  last_year  X1_last1year  \\\n",
      "0          C_1        alive        D          37     2017.0         942.7   \n",
      "1          C_2        alive        D          36     2010.0        1107.7   \n",
      "2          C_3        alive        D          38     2008.0       12686.0   \n",
      "3          C_4        alive        D          28     2007.0      581502.0   \n",
      "4          C_5        alive        D          35     1999.0       28957.0   \n",
      "\n",
      "   X1_last2year  X2_last1year  X2_last2year  X3_last1year  ...  \\\n",
      "0         888.5       1524.70        1504.1       1413.20  ...   \n",
      "1         900.2       1474.50        1343.6        677.20  ...   \n",
      "2       13454.0      21401.00       27171.0      19334.00  ...   \n",
      "3      353541.0    1288165.00      927239.0        267.81  ...   \n",
      "4           NaN         42.21           NaN      79567.00  ...   \n",
      "\n",
      "   X18_last1year_ycr  X18_last2year_ycr  nyse_last1year  nyse_last2year  \\\n",
      "0           0.001482           0.061414    11912.848307    10451.377523   \n",
      "1           0.135088          -0.289221     7166.229940     6100.795776   \n",
      "2           0.269244           0.227659     8001.502441     9685.001790   \n",
      "3          -0.998676           0.318548     9685.001790     8434.441610   \n",
      "4                NaN                NaN     6549.827474             NaN   \n",
      "\n",
      "   nasdaq_last1year  nasdaq_last2year  company_name_encoded  Division_encoded  \\\n",
      "0       6293.024211       5015.926717                     0                 3   \n",
      "1       2333.908345       1856.529999                  1111                 3   \n",
      "2       2148.948334       2587.587504                  2222                 3   \n",
      "3       2587.587504       2278.996664                  3333                 3   \n",
      "4       2787.559998               NaN                  4444                 3   \n",
      "\n",
      "   MajorGroup_encoded  status_label_encoded  \n",
      "0                  29                     0  \n",
      "1                  28                     0  \n",
      "2                  30                     0  \n",
      "3                  20                     0  \n",
      "4                  27                     0  \n",
      "\n",
      "[5 rows x 85 columns]\n"
     ]
    }
   ],
   "source": [
    "# Encoding non-numeric columns\n",
    "\n",
    "from sklearn.preprocessing import LabelEncoder\n",
    "\n",
    "# Initialize LabelEncoder object\n",
    "label_encoder = LabelEncoder()\n",
    "\n",
    "\n",
    "# Label-encode the company_name column\n",
    "data['company_name_encoded'] = label_encoder.fit_transform(data['company_name'])\n",
    "\n",
    "\n",
    "# Label-encode the Division column\n",
    "data['Division_encoded'] = label_encoder.fit_transform(data['Division'])\n",
    "\n",
    "# Label-encode MajorGroup columns\n",
    "data['MajorGroup_encoded'] = label_encoder.fit_transform(data['MajorGroup'])\n",
    "#When using label encoding for feature encoding, the sequential relationship between categories will not be introduced and will not have an impact on prediction.\n",
    "\n",
    "# Encode the label of the status_label column\n",
    "data['status_label_encoded'] = label_encoder.fit_transform(data['status_label'])\n",
    "#With only two categories, it may be simpler and more appropriate to use label encoding as it maps the categories to 0 and 1, suitable for use in tree-based models. \n",
    "#If use one-hot encoding, a new column will be generated\n",
    "\n",
    "print(data.head())\n"
   ]
  },
  {
   "cell_type": "code",
   "execution_count": 4,
   "id": "b1f286d3-0047-4da4-90dc-dd63a2e84a66",
   "metadata": {},
   "outputs": [
    {
     "name": "stdout",
     "output_type": "stream",
     "text": [
      "<class 'pandas.core.frame.DataFrame'>\n",
      "RangeIndex: 8971 entries, 0 to 8970\n",
      "Data columns (total 85 columns):\n",
      " #   Column                Non-Null Count  Dtype  \n",
      "---  ------                --------------  -----  \n",
      " 0   company_name          8971 non-null   object \n",
      " 1   status_label          8971 non-null   object \n",
      " 2   Division              8971 non-null   object \n",
      " 3   MajorGroup            8971 non-null   int64  \n",
      " 4   last_year             8971 non-null   float64\n",
      " 5   X1_last1year          8971 non-null   float64\n",
      " 6   X1_last2year          8078 non-null   float64\n",
      " 7   X2_last1year          8971 non-null   float64\n",
      " 8   X2_last2year          8078 non-null   float64\n",
      " 9   X3_last1year          8971 non-null   float64\n",
      " 10  X3_last2year          8078 non-null   float64\n",
      " 11  X4_last1year          8971 non-null   float64\n",
      " 12  X4_last2year          8078 non-null   float64\n",
      " 13  X5_last1year          8971 non-null   float64\n",
      " 14  X5_last2year          8078 non-null   float64\n",
      " 15  X6_last1year          8971 non-null   float64\n",
      " 16  X6_last2year          8078 non-null   float64\n",
      " 17  X7_last1year          8971 non-null   float64\n",
      " 18  X7_last2year          8078 non-null   float64\n",
      " 19  X8_last1year          8971 non-null   float64\n",
      " 20  X8_last2year          8078 non-null   float64\n",
      " 21  X9_last1year          8971 non-null   float64\n",
      " 22  X9_last2year          8078 non-null   float64\n",
      " 23  X10_last1year         8971 non-null   float64\n",
      " 24  X10_last2year         8078 non-null   float64\n",
      " 25  X11_last1year         8971 non-null   float64\n",
      " 26  X11_last2year         8078 non-null   float64\n",
      " 27  X12_last1year         8971 non-null   float64\n",
      " 28  X12_last2year         8078 non-null   float64\n",
      " 29  X13_last1year         8971 non-null   float64\n",
      " 30  X13_last2year         8078 non-null   float64\n",
      " 31  X14_last1year         8971 non-null   float64\n",
      " 32  X14_last2year         8078 non-null   float64\n",
      " 33  X15_last1year         8971 non-null   float64\n",
      " 34  X15_last2year         8078 non-null   float64\n",
      " 35  X16_last1year         8971 non-null   float64\n",
      " 36  X16_last2year         8078 non-null   float64\n",
      " 37  X17_last1year         8971 non-null   float64\n",
      " 38  X17_last2year         8078 non-null   float64\n",
      " 39  X18_last1year         8971 non-null   float64\n",
      " 40  X18_last2year         8078 non-null   float64\n",
      " 41  X1_last1year_ycr      8078 non-null   float64\n",
      " 42  X1_last2year_ycr      7101 non-null   float64\n",
      " 43  X2_last1year_ycr      8078 non-null   float64\n",
      " 44  X2_last2year_ycr      7101 non-null   float64\n",
      " 45  X3_last1year_ycr      8078 non-null   float64\n",
      " 46  X3_last2year_ycr      7101 non-null   float64\n",
      " 47  X4_last1year_ycr      8078 non-null   float64\n",
      " 48  X4_last2year_ycr      7101 non-null   float64\n",
      " 49  X5_last1year_ycr      8078 non-null   float64\n",
      " 50  X5_last2year_ycr      7101 non-null   float64\n",
      " 51  X6_last1year_ycr      8078 non-null   float64\n",
      " 52  X6_last2year_ycr      7101 non-null   float64\n",
      " 53  X7_last1year_ycr      8078 non-null   float64\n",
      " 54  X7_last2year_ycr      7101 non-null   float64\n",
      " 55  X8_last1year_ycr      8078 non-null   float64\n",
      " 56  X8_last2year_ycr      7101 non-null   float64\n",
      " 57  X9_last1year_ycr      8078 non-null   float64\n",
      " 58  X9_last2year_ycr      7101 non-null   float64\n",
      " 59  X10_last1year_ycr     8078 non-null   float64\n",
      " 60  X10_last2year_ycr     7101 non-null   float64\n",
      " 61  X11_last1year_ycr     8078 non-null   float64\n",
      " 62  X11_last2year_ycr     7101 non-null   float64\n",
      " 63  X12_last1year_ycr     8078 non-null   float64\n",
      " 64  X12_last2year_ycr     7101 non-null   float64\n",
      " 65  X13_last1year_ycr     8078 non-null   float64\n",
      " 66  X13_last2year_ycr     7101 non-null   float64\n",
      " 67  X14_last1year_ycr     8078 non-null   float64\n",
      " 68  X14_last2year_ycr     7101 non-null   float64\n",
      " 69  X15_last1year_ycr     8078 non-null   float64\n",
      " 70  X15_last2year_ycr     7101 non-null   float64\n",
      " 71  X16_last1year_ycr     8078 non-null   float64\n",
      " 72  X16_last2year_ycr     7101 non-null   float64\n",
      " 73  X17_last1year_ycr     8078 non-null   float64\n",
      " 74  X17_last2year_ycr     7101 non-null   float64\n",
      " 75  X18_last1year_ycr     8078 non-null   float64\n",
      " 76  X18_last2year_ycr     7101 non-null   float64\n",
      " 77  nyse_last1year        8971 non-null   float64\n",
      " 78  nyse_last2year        8496 non-null   float64\n",
      " 79  nasdaq_last1year      8971 non-null   float64\n",
      " 80  nasdaq_last2year      8496 non-null   float64\n",
      " 81  company_name_encoded  8971 non-null   int32  \n",
      " 82  Division_encoded      8971 non-null   int32  \n",
      " 83  MajorGroup_encoded    8971 non-null   int64  \n",
      " 84  status_label_encoded  8971 non-null   int32  \n",
      "dtypes: float64(77), int32(3), int64(2), object(3)\n",
      "memory usage: 5.7+ MB\n"
     ]
    }
   ],
   "source": [
    "data.info()"
   ]
  },
  {
   "cell_type": "code",
   "execution_count": 5,
   "id": "374fe89d-42d2-472f-8724-dcc6f06dff33",
   "metadata": {},
   "outputs": [
    {
     "data": {
      "text/plain": [
       "(8971, 85)"
      ]
     },
     "execution_count": 5,
     "metadata": {},
     "output_type": "execute_result"
    }
   ],
   "source": [
    "data.shape"
   ]
  },
  {
   "cell_type": "code",
   "execution_count": 6,
   "id": "11b45588-522a-4d3c-8509-9749f7d3c4d5",
   "metadata": {},
   "outputs": [
    {
     "name": "stdout",
     "output_type": "stream",
     "text": [
      "Number of unique values in 'company_name_encoded' column: 8971\n",
      "Number of unique values in 'status_label_encoded' column: 2\n",
      "Number of unique values in 'Division_encoded' column: 10\n",
      "Number of unique values in 'MajorGroup_encoded' column: 73\n"
     ]
    }
   ],
   "source": [
    "unique_company_names = data['company_name_encoded'].nunique()\n",
    "unique_status_labels = data['status_label_encoded'].nunique()\n",
    "unique_divisions = data['Division_encoded'].nunique()\n",
    "unique_majorgroup = data['MajorGroup_encoded'].nunique()\n",
    "\n",
    "print(\"Number of unique values in 'company_name_encoded' column:\", unique_company_names)\n",
    "print(\"Number of unique values in 'status_label_encoded' column:\", unique_status_labels)\n",
    "print(\"Number of unique values in 'Division_encoded' column:\", unique_divisions)\n",
    "print(\"Number of unique values in 'MajorGroup_encoded' column:\", unique_majorgroup)\n"
   ]
  },
  {
   "cell_type": "code",
   "execution_count": 7,
   "id": "e1abf0ae-6966-43bc-a652-7523ee634cb3",
   "metadata": {},
   "outputs": [
    {
     "name": "stdout",
     "output_type": "stream",
     "text": [
      "Unique values in 'Division_encoded' column: [3 4 2 8 5 6 1 0 7 9]\n"
     ]
    }
   ],
   "source": [
    "unique_divisions = data['Division_encoded'].unique()\n",
    "print(\"Unique values in 'Division_encoded' column:\", unique_divisions)\n"
   ]
  },
  {
   "cell_type": "code",
   "execution_count": 8,
   "id": "381247f3-2cdf-4adf-b51a-e16ec84e1347",
   "metadata": {},
   "outputs": [
    {
     "name": "stdout",
     "output_type": "stream",
     "text": [
      "Number of rows with missing values: 1870\n"
     ]
    }
   ],
   "source": [
    "missing_rows_count = data.isnull().any(axis=1).sum()\n",
    "print(\"Number of rows with missing values:\", missing_rows_count)\n"
   ]
  },
  {
   "cell_type": "code",
   "execution_count": 9,
   "id": "b98d5d1a-22e0-4ee6-8fc9-f156a2a97b46",
   "metadata": {},
   "outputs": [
    {
     "data": {
      "text/plain": [
       "(7101, 37)"
      ]
     },
     "execution_count": 9,
     "metadata": {},
     "output_type": "execute_result"
    }
   ],
   "source": [
    "# Delete rows with missing values\n",
    "data_cleaned = data.dropna()\n",
    "# Delete non-numeric columns that are not encoded\n",
    "# List of static columns to drop\n",
    "static_columns_to_drop = [\n",
    "    'company_name', 'status_label', 'Division', 'MajorGroup', 'last_year', 'company_name_encoded',\n",
    "    'Division_encoded', 'MajorGroup_encoded'\n",
    "]\n",
    "\n",
    "# List of dynamic columns to drop (nyse and nasdaq columns for 1 year and 2 years)\n",
    "nyse_nasdaq_columns_to_drop = [f'{exchange}_last{year}year' for exchange in ('nyse', 'nasdaq') for year in (1, 2)]\n",
    "\n",
    "# Add X1_last1year_ycr to X18_last1year_ycr and X1_last2year_ycr to X18_last2year_ycr columns to the list\n",
    "ycr_columns_to_drop = [f'X{i}_last{year}year_ycr' for i in range(1, 19) for year in (1, 2)]\n",
    "\n",
    "# Combine all columns to drop\n",
    "columns_to_drop = static_columns_to_drop + nyse_nasdaq_columns_to_drop + ycr_columns_to_drop\n",
    "\n",
    "# Drop the columns from the data\n",
    "data_cleaned = data_cleaned.drop(columns=columns_to_drop)\n",
    "\n",
    "\n",
    "\n",
    "data_cleaned.shape"
   ]
  },
  {
   "cell_type": "code",
   "execution_count": 10,
   "id": "22f1ba13-272c-4957-96db-dd37c4602510",
   "metadata": {},
   "outputs": [
    {
     "data": {
      "text/plain": [
       "<bound method NDFrame.head of       X1_last1year  X1_last2year  X2_last1year  X2_last2year  X3_last1year  \\\n",
       "0            942.7         888.5       1524.70       1504.10       1413.20   \n",
       "1           1107.7         900.2       1474.50       1343.60        677.20   \n",
       "2          12686.0       13454.0      21401.00      27171.00      19334.00   \n",
       "3         581502.0      353541.0    1288165.00     927239.00        267.81   \n",
       "5           6838.0        6642.0      25088.00      25438.00      18138.00   \n",
       "...            ...           ...           ...           ...           ...   \n",
       "8966       10566.0       11738.0      28278.00      26206.00      31288.00   \n",
       "8967        3369.0        9049.0       3466.00       9198.00        208.00   \n",
       "8968        2482.2        2340.6       9401.50      10252.40        966.70   \n",
       "8969         931.6        1032.7       2810.20       2542.00       1475.90   \n",
       "8970       82589.0      135207.0       1625.37       1736.11      68817.00   \n",
       "\n",
       "      X3_last2year  X4_last1year  X4_last2year  X5_last1year  X5_last2year  \\\n",
       "0         1422.700         177.2         155.3        40.500        71.000   \n",
       "1          600.500         650.8         651.0        61.500        66.400   \n",
       "2           17.589          23.0        5822.0      1686.000         0.500   \n",
       "3       229115.000         300.0           0.0     46338.000        42.873   \n",
       "5        16935.000        9253.0       10583.0       995.000      1007.000   \n",
       "...            ...           ...           ...           ...           ...   \n",
       "8966     26885.000        8497.0        8549.0      1200.000      1133.000   \n",
       "8967      1077.000           0.0           0.0        57.000         0.190   \n",
       "8968      1833.200        5350.7        5440.6       156.600       354.200   \n",
       "8969      1269.600        1409.5        1442.3        82.500        62.100   \n",
       "8970     66527.000      632122.0      694035.0        65.201        65.330   \n",
       "\n",
       "      ...  X14_last2year  X15_last1year  X15_last2year  X16_last1year  \\\n",
       "0     ...        1767.60   1.551458e+06      1200.3288          588.4   \n",
       "1     ...         996.70   1.231524e+06       805.6440         1040.1   \n",
       "2     ...          28.72   5.020100e+00        30.4793        17224.0   \n",
       "3     ...      653828.00   8.824491e+02      1038.6859       557038.0   \n",
       "5     ...       19917.00   2.597575e+03      2571.1835        29033.0   \n",
       "...   ...            ...            ...            ...            ...   \n",
       "8966  ...       34484.00   3.124296e+04     43522.5638        17882.0   \n",
       "8967  ...         545.00   2.231000e-01         0.1309         7181.0   \n",
       "8968  ...        3775.90   2.985101e+03      2850.9981         7220.4   \n",
       "8969  ...        2408.20   7.543515e+03      7563.1327         2156.2   \n",
       "8970  ...      161884.00   3.541786e+02       412.6241       712687.0   \n",
       "\n",
       "      X16_last2year  X17_last1year  X17_last2year  X18_last1year  \\\n",
       "0            589.90        1748.30        1767.60       1621.800   \n",
       "1            987.40        1156.60         996.70       1035.200   \n",
       "2          12296.00          34.28          28.72      37001.000   \n",
       "3            203.24      722425.00      653828.00        681.609   \n",
       "5          28927.00       22170.00       19917.00      20867.000   \n",
       "...             ...            ...            ...            ...   \n",
       "8966       17256.00       39004.00       34484.00      32459.000   \n",
       "8967        2408.00          53.00         545.00         10.700   \n",
       "8968        7392.40        1961.00        3775.90       1548.300   \n",
       "8969        2136.50        2731.70        2408.20       2112.700   \n",
       "8970      776697.00      160513.00      161884.00      93251.000   \n",
       "\n",
       "      X18_last2year  status_label_encoded  \n",
       "0            1619.4                     0  \n",
       "1             912.0                     0  \n",
       "2           29152.0                     0  \n",
       "3          514914.0                     0  \n",
       "5           19655.0                     1  \n",
       "...             ...                   ...  \n",
       "8966        27850.0                     0  \n",
       "8967        13328.0                     0  \n",
       "8968         3017.8                     0  \n",
       "8969         1840.9                     0  \n",
       "8970        92713.0                     0  \n",
       "\n",
       "[7101 rows x 37 columns]>"
      ]
     },
     "execution_count": 10,
     "metadata": {},
     "output_type": "execute_result"
    }
   ],
   "source": [
    "data_cleaned.head"
   ]
  },
  {
   "cell_type": "code",
   "execution_count": 11,
   "id": "89dd5f1e-dc82-4769-b937-5bb68e3d9f31",
   "metadata": {},
   "outputs": [
    {
     "name": "stdout",
     "output_type": "stream",
     "text": [
      "0    6537\n",
      "1     564\n",
      "Name: status_label_encoded, dtype: int64\n"
     ]
    }
   ],
   "source": [
    "status_counts = data_cleaned['status_label_encoded'].value_counts()\n",
    "print(status_counts)\n"
   ]
  },
  {
   "cell_type": "markdown",
   "id": "6a330463-b2f8-4aa1-85a6-f2ad40621a69",
   "metadata": {},
   "source": [
    "### 1. RF"
   ]
  },
  {
   "cell_type": "code",
   "execution_count": 12,
   "id": "8f159c74-a2f6-46b8-b156-d9db13dd3a57",
   "metadata": {},
   "outputs": [],
   "source": [
    "#the impact of imbalanced datasets\n"
   ]
  },
  {
   "cell_type": "markdown",
   "id": "317d5616-60a7-4288-b8a2-6630bd5fbe7d",
   "metadata": {},
   "source": [
    "#### 1.1 imbalance dataset + CV"
   ]
  },
  {
   "cell_type": "code",
   "execution_count": 13,
   "id": "90fff82c-02bc-4660-86fb-87d2b8ed60f3",
   "metadata": {},
   "outputs": [
    {
     "name": "stdout",
     "output_type": "stream",
     "text": [
      "Validation Accuracy: 0.9253521126760563\n",
      "Cross-validation Scores: [0.92253521 0.92077465 0.92077465 0.92341549 0.92517606]\n",
      "Mean CV Accuracy: 0.9225352112676056\n",
      "Test Accuracy: 0.9218859957776214\n"
     ]
    }
   ],
   "source": [
    "from sklearn.model_selection import train_test_split, cross_val_score\n",
    "from sklearn.ensemble import RandomForestClassifier\n",
    "from sklearn.metrics import accuracy_score\n",
    "\n",
    "# Split the dataset into features and labels\n",
    "X = data_cleaned.drop('status_label_encoded', axis=1)\n",
    "y = data_cleaned['status_label_encoded']\n",
    "\n",
    "# Split the data set into training set, validation set and test set\n",
    "X_train_val, X_test, y_train_val, y_test = train_test_split(X, y, test_size=0.2, random_state=42)\n",
    "X_train, X_val, y_train, y_val = train_test_split(X_train_val, y_train_val, test_size=0.25, random_state=42)  # 80% training, 20% validation\n",
    "\n",
    "# Define a random forest classifier\n",
    "rf_classifier = RandomForestClassifier(n_estimators=100, random_state=42)\n",
    "# Train the model on the training set\n",
    "rf_classifier.fit(X_train, y_train)\n",
    "\n",
    "# Make predictions on the validation set\n",
    "val_predictions = rf_classifier.predict(X_val)\n",
    "# Calculate accuracy on validation set\n",
    "val_accuracy = accuracy_score(y_val, val_predictions)\n",
    "print(\"Validation Accuracy:\", val_accuracy)\n",
    "\n",
    "# Perform cross-validation on the training set\n",
    "cv_scores = cross_val_score(rf_classifier, X_train_val, y_train_val, cv=5)\n",
    "# Print cross-validation scores\n",
    "print(\"Cross-validation Scores:\", cv_scores)\n",
    "print(\"Mean CV Accuracy:\", cv_scores.mean())\n",
    "# Retrain the model on the entire training set\n",
    "\n",
    "\n",
    "# Make predictions on the test set\n",
    "test_predictions = rf_classifier.predict(X_test)\n",
    "# Calculate accuracy on test set\n",
    "test_accuracy = accuracy_score(y_test, test_predictions)\n",
    "print(\"Test Accuracy:\", test_accuracy)\n"
   ]
  },
  {
   "cell_type": "code",
   "execution_count": 14,
   "id": "ef9d866c-bd00-40bf-9b07-b63d8c2b2bd4",
   "metadata": {},
   "outputs": [
    {
     "name": "stdout",
     "output_type": "stream",
     "text": [
      "Accuracy: 0.9218859957776214\n",
      "Precision: 0.8\n",
      "Recall: 0.03508771929824561\n",
      "F1 Score: 0.06722689075630252\n",
      "Micro F1 Score: 0.9218859957776214\n",
      "Macro F1 Score: 0.5132315136851656\n",
      "ROC AUC: 0.7864031731969556\n",
      "Confusion Matrix:\n",
      "[[1306    1]\n",
      " [ 110    4]]\n"
     ]
    }
   ],
   "source": [
    "from sklearn.metrics import accuracy_score, precision_score, recall_score, f1_score, roc_auc_score, precision_recall_curve, roc_curve, confusion_matrix\n",
    "\n",
    "# Calculate accuracy\n",
    "accuracy = accuracy_score(y_test, test_predictions)\n",
    "print(\"Accuracy:\", accuracy)\n",
    "\n",
    "# Calculation precision\n",
    "precision = precision_score(y_test, test_predictions)\n",
    "print(\"Precision:\", precision)\n",
    "\n",
    "# Calculate recall\n",
    "recall = recall_score(y_test, test_predictions)\n",
    "print(\"Recall:\", recall)\n",
    "\n",
    "# Calculate F1 score\n",
    "f1 = f1_score(y_test, test_predictions)\n",
    "print(\"F1 Score:\", f1)\n",
    "\n",
    "# Calculate micro F1 score\n",
    "micro_f1 = f1_score(y_test, test_predictions, average='micro')\n",
    "print(\"Micro F1 Score:\", micro_f1)\n",
    "\n",
    "# Calculate macro F1 score\n",
    "macro_f1 = f1_score(y_test, test_predictions, average='macro')\n",
    "print(\"Macro F1 Score:\", macro_f1)\n",
    "\n",
    "# Calculate ROC AUC\n",
    "y_prob = rf_classifier.predict_proba(X_test)[:, 1]\n",
    "roc_auc = roc_auc_score(y_test, y_prob)\n",
    "print(\"ROC AUC:\", roc_auc)\n",
    "\n",
    "# Calculate confusion matrix\n",
    "conf_matrix = confusion_matrix(y_test, test_predictions)\n",
    "print(\"Confusion Matrix:\")\n",
    "print(conf_matrix)\n"
   ]
  },
  {
   "cell_type": "code",
   "execution_count": null,
   "id": "9228af36-d91a-44b9-ba3c-a77f93a903ae",
   "metadata": {},
   "outputs": [],
   "source": []
  },
  {
   "cell_type": "markdown",
   "id": "80fd8821-7338-45dc-a3e0-949fefa793bc",
   "metadata": {},
   "source": [
    "### 2. XGBOOST"
   ]
  },
  {
   "cell_type": "code",
   "execution_count": 15,
   "id": "ca37366c-2d39-4c57-9288-5724a2d0fe97",
   "metadata": {},
   "outputs": [],
   "source": [
    "#2.1 imbalance\n"
   ]
  },
  {
   "cell_type": "code",
   "execution_count": 16,
   "id": "775f5465-3caa-4d00-908a-bdff4eecaab1",
   "metadata": {},
   "outputs": [
    {
     "name": "stdout",
     "output_type": "stream",
     "text": [
      "[0]\ttrain-logloss:0.29022\teval-logloss:0.29280\n",
      "[1]\ttrain-logloss:0.27606\teval-logloss:0.28575\n",
      "[2]\ttrain-logloss:0.26279\teval-logloss:0.27930\n",
      "[3]\ttrain-logloss:0.25095\teval-logloss:0.27275\n",
      "[4]\ttrain-logloss:0.23990\teval-logloss:0.26773\n",
      "[5]\ttrain-logloss:0.22953\teval-logloss:0.26338\n",
      "[6]\ttrain-logloss:0.21956\teval-logloss:0.25906\n",
      "[7]\ttrain-logloss:0.21001\teval-logloss:0.25567\n",
      "[8]\ttrain-logloss:0.20104\teval-logloss:0.25277\n",
      "[9]\ttrain-logloss:0.19286\teval-logloss:0.24876\n",
      "[10]\ttrain-logloss:0.18520\teval-logloss:0.24527\n",
      "[11]\ttrain-logloss:0.17809\teval-logloss:0.24293\n",
      "[12]\ttrain-logloss:0.17081\teval-logloss:0.24083\n",
      "[13]\ttrain-logloss:0.16420\teval-logloss:0.23837\n",
      "[14]\ttrain-logloss:0.15746\teval-logloss:0.23613\n",
      "[15]\ttrain-logloss:0.15179\teval-logloss:0.23415\n",
      "[16]\ttrain-logloss:0.14624\teval-logloss:0.23146\n",
      "[17]\ttrain-logloss:0.14132\teval-logloss:0.22987\n",
      "[18]\ttrain-logloss:0.13618\teval-logloss:0.22856\n",
      "[19]\ttrain-logloss:0.13118\teval-logloss:0.22768\n",
      "[20]\ttrain-logloss:0.12652\teval-logloss:0.22641\n",
      "[21]\ttrain-logloss:0.12191\teval-logloss:0.22524\n",
      "[22]\ttrain-logloss:0.11773\teval-logloss:0.22468\n",
      "[23]\ttrain-logloss:0.11396\teval-logloss:0.22392\n",
      "[24]\ttrain-logloss:0.11002\teval-logloss:0.22316\n",
      "[25]\ttrain-logloss:0.10640\teval-logloss:0.22251\n",
      "[26]\ttrain-logloss:0.10304\teval-logloss:0.22172\n",
      "[27]\ttrain-logloss:0.09977\teval-logloss:0.22118\n",
      "[28]\ttrain-logloss:0.09672\teval-logloss:0.22068\n",
      "[29]\ttrain-logloss:0.09371\teval-logloss:0.22053\n",
      "[30]\ttrain-logloss:0.09085\teval-logloss:0.22039\n",
      "[31]\ttrain-logloss:0.08822\teval-logloss:0.22010\n",
      "[32]\ttrain-logloss:0.08549\teval-logloss:0.21964\n",
      "[33]\ttrain-logloss:0.08297\teval-logloss:0.21961\n",
      "[34]\ttrain-logloss:0.08053\teval-logloss:0.21952\n",
      "[35]\ttrain-logloss:0.07826\teval-logloss:0.21919\n",
      "[36]\ttrain-logloss:0.07602\teval-logloss:0.21971\n",
      "[37]\ttrain-logloss:0.07371\teval-logloss:0.21958\n",
      "[38]\ttrain-logloss:0.07163\teval-logloss:0.21930\n",
      "[39]\ttrain-logloss:0.06977\teval-logloss:0.21924\n",
      "[40]\ttrain-logloss:0.06779\teval-logloss:0.21926\n",
      "[41]\ttrain-logloss:0.06606\teval-logloss:0.21898\n",
      "[42]\ttrain-logloss:0.06431\teval-logloss:0.21888\n",
      "[43]\ttrain-logloss:0.06259\teval-logloss:0.21851\n",
      "[44]\ttrain-logloss:0.06105\teval-logloss:0.21889\n",
      "[45]\ttrain-logloss:0.05948\teval-logloss:0.21921\n",
      "[46]\ttrain-logloss:0.05802\teval-logloss:0.21919\n",
      "[47]\ttrain-logloss:0.05665\teval-logloss:0.21950\n",
      "[48]\ttrain-logloss:0.05525\teval-logloss:0.22035\n",
      "[49]\ttrain-logloss:0.05401\teval-logloss:0.22053\n",
      "[50]\ttrain-logloss:0.05276\teval-logloss:0.22045\n",
      "[51]\ttrain-logloss:0.05156\teval-logloss:0.22021\n",
      "[52]\ttrain-logloss:0.05038\teval-logloss:0.22053\n",
      "Test Accuracy: 0.9197748064743139\n"
     ]
    }
   ],
   "source": [
    "from imblearn.over_sampling import SMOTE\n",
    "from sklearn.model_selection import train_test_split\n",
    "from sklearn.metrics import accuracy_score\n",
    "import xgboost as xgb\n",
    "import pandas as pd\n",
    "\n",
    "# Split the dataset into features and labels\n",
    "X = data_cleaned.drop('status_label_encoded', axis=1)\n",
    "y = data_cleaned['status_label_encoded']\n",
    "\n",
    "# Split the data into training + validation and testing sets\n",
    "X_train_val, X_test, y_train_val, y_test = train_test_split(X, y, test_size=0.2, random_state=42)\n",
    "# Further split the training + validation set into training and validation sets\n",
    "X_train, X_val, y_train, y_val = train_test_split(X_train_val, y_train_val, test_size=0.25, random_state=42)\n",
    "\n",
    "\n",
    "# Convert data to DMatrix format for XGBoost\n",
    "dtrain = xgb.DMatrix(X_train, label=y_train)\n",
    "dval = xgb.DMatrix(X_val, label=y_val)\n",
    "dtest = xgb.DMatrix(X_test, label=y_test)\n",
    "\n",
    "params = {\n",
    "    'objective': 'binary:logistic',  # Binary classification\n",
    "    'eval_metric': 'logloss',         # Logarithmic loss\n",
    "    'eta': 0.07,                       # Learning rate\n",
    "    'max_depth': 60,                   # Maximum depth of the tree\n",
    "    'subsample': 0.9,                 # Subsample ratio of the training instances\n",
    "    'colsample_bytree': 0.9,          # Subsample ratio of columns when constructing each tree\n",
    "    'lambda': 1,                      # L2 regularization term (default is 1)\n",
    "    'alpha': 0,                       # L1 regularization term (default is 0)\n",
    "    'seed': 42                        # Random seed\n",
    "}\n",
    "\n",
    "# Train XGBoost model\n",
    "num_rounds = 100\n",
    "watchlist = [(dtrain, 'train'), (dval, 'eval')]\n",
    "xgb_model = xgb.train(params, dtrain, num_rounds, evals=watchlist, early_stopping_rounds=10)\n",
    "\n",
    "# Make predictions on the test set\n",
    "test_predictions_proba = xgb_model.predict(dtest)\n",
    "test_predictions = [1 if x > 0.5 else 0 for x in test_predictions_proba]\n",
    "\n",
    "# Calculate accuracy on test set\n",
    "test_accuracy = accuracy_score(y_test, test_predictions)\n",
    "print(\"Test Accuracy:\", test_accuracy)\n"
   ]
  },
  {
   "cell_type": "code",
   "execution_count": 17,
   "id": "0b2d1469-e2c3-4039-b7cb-448d7139d0b1",
   "metadata": {},
   "outputs": [
    {
     "name": "stdout",
     "output_type": "stream",
     "text": [
      "Accuracy: 0.9197748064743139\n",
      "Precision: 0.5\n",
      "Recall: 0.043859649122807015\n",
      "F1 Score: 0.08064516129032258\n",
      "Micro F1 Score: 0.9197748064743139\n",
      "Macro F1 Score: 0.5193512782169052\n",
      "ROC AUC: 0.7948294607981314\n",
      "Confusion Matrix:\n",
      "[[1302    5]\n",
      " [ 109    5]]\n"
     ]
    }
   ],
   "source": [
    "from sklearn.metrics import accuracy_score, precision_score, recall_score, f1_score, roc_auc_score, confusion_matrix\n",
    "\n",
    "# Calculate accuracy\n",
    "accuracy = accuracy_score(y_test, test_predictions)\n",
    "print(\"Accuracy:\", accuracy)\n",
    "\n",
    "# Calculate precision\n",
    "precision = precision_score(y_test, test_predictions)\n",
    "print(\"Precision:\", precision)\n",
    "\n",
    "# Calculate recall\n",
    "recall = recall_score(y_test, test_predictions)\n",
    "print(\"Recall:\", recall)\n",
    "\n",
    "# Calculate F1 score\n",
    "f1 = f1_score(y_test, test_predictions)\n",
    "print(\"F1 Score:\", f1)\n",
    "\n",
    "# Calculate micro F1 score\n",
    "micro_f1 = f1_score(y_test, test_predictions, average='micro')\n",
    "print(\"Micro F1 Score:\", micro_f1)\n",
    "\n",
    "# Calculate macro F1 score\n",
    "macro_f1 = f1_score(y_test, test_predictions, average='macro')\n",
    "print(\"Macro F1 Score:\", macro_f1)\n",
    "\n",
    "# Calculate ROC AUC\n",
    "roc_auc = roc_auc_score(y_test, test_predictions_proba)\n",
    "print(\"ROC AUC:\", roc_auc)\n",
    "\n",
    "# Calculate confusion matrix\n",
    "conf_matrix = confusion_matrix(y_test, test_predictions)\n",
    "print(\"Confusion Matrix:\")\n",
    "print(conf_matrix)\n"
   ]
  },
  {
   "cell_type": "markdown",
   "id": "df4285d6-d191-459f-82e5-af2d11884f3f",
   "metadata": {
    "tags": []
   },
   "source": [
    "### 3. GB\n"
   ]
  },
  {
   "cell_type": "code",
   "execution_count": 18,
   "id": "59a6df05-e8a0-4152-8526-eabb0e804e00",
   "metadata": {},
   "outputs": [],
   "source": [
    "#imbalance+cv"
   ]
  },
  {
   "cell_type": "code",
   "execution_count": 19,
   "id": "8f705495-0cf3-4d0c-891d-ccd5586d0ba8",
   "metadata": {},
   "outputs": [
    {
     "name": "stdout",
     "output_type": "stream",
     "text": [
      "Validation Accuracy: 0.9246478873239437\n",
      "Cross-validation Scores: [0.92077465 0.91989437 0.92429577 0.92429577 0.92429577]\n",
      "Mean CV Accuracy: 0.9227112676056338\n",
      "Test Accuracy: 0.9204785362420831\n"
     ]
    }
   ],
   "source": [
    "from sklearn.model_selection import train_test_split, cross_val_score\n",
    "from sklearn.metrics import accuracy_score\n",
    "from sklearn.ensemble import GradientBoostingClassifier\n",
    "from sklearn.tree import DecisionTreeClassifier\n",
    "import pandas as pd\n",
    "\n",
    "# Split the dataset into features and labels\n",
    "X = data_cleaned.drop('status_label_encoded', axis=1)\n",
    "y = data_cleaned['status_label_encoded']\n",
    "\n",
    "# Split the data into training + validation and testing sets\n",
    "X_train_val, X_test, y_train_val, y_test = train_test_split(X, y, test_size=0.2, random_state=42)\n",
    "# Further split the training + validation set into training and validation sets\n",
    "X_train, X_val, y_train, y_val = train_test_split(X_train_val, y_train_val, test_size=0.25, random_state=42)\n",
    "\n",
    "# Define a Gradient Boosting classifier\n",
    "gb_classifier = GradientBoostingClassifier(n_estimators=100, max_depth=10, random_state=42)\n",
    "\n",
    "# Train Gradient Boosting model\n",
    "gb_classifier.fit(X_train, y_train)\n",
    "\n",
    "# Make predictions on the validation set\n",
    "val_predictions = gb_classifier.predict(X_val)\n",
    "# Calculate accuracy on validation set\n",
    "val_accuracy = accuracy_score(y_val, val_predictions)\n",
    "print(\"Validation Accuracy:\", val_accuracy)\n",
    "\n",
    "# Perform cross-validation on the train_val set\n",
    "cv_scores = cross_val_score(gb_classifier, X_train_val, y_train_val, cv=5)\n",
    "# Print cross-validat ion scores\n",
    "print(\"Cross-validation Scores:\", cv_scores)\n",
    "print(\"Mean CV Accuracy:\", cv_scores.mean())\n",
    "\n",
    "\n",
    "# Make predictions on the test set\n",
    "test_predictions = gb_classifier.predict(X_test)\n",
    "# Calculate accuracy on test set\n",
    "test_accuracy = accuracy_score(y_test, test_predictions)\n",
    "print(\"Test Accuracy:\", test_accuracy)\n"
   ]
  },
  {
   "cell_type": "code",
   "execution_count": 20,
   "id": "de63fad9-a98d-4af8-b0df-df411118d900",
   "metadata": {},
   "outputs": [
    {
     "name": "stdout",
     "output_type": "stream",
     "text": [
      "Micro F1 Score: 0.9204785362420831\n",
      "Macro F1 Score: 0.5198707080855288\n",
      "Test Accuracy: 0.9204785362420831\n",
      "Precision: 0.5555555555555556\n",
      "Recall: 0.043859649122807015\n",
      "F1 Score: 0.08130081300813007\n",
      "ROC AUC Score: 0.789930066175385\n",
      "Confusion Matrix:\n",
      " [[1303    4]\n",
      " [ 109    5]]\n"
     ]
    }
   ],
   "source": [
    "from sklearn.metrics import precision_score, recall_score, f1_score, roc_auc_score, confusion_matrix\n",
    "\n",
    "# Calculate accuracy on test set\n",
    "test_accuracy = accuracy_score(y_test, test_predictions)\n",
    "\n",
    "# Calculate precision\n",
    "precision = precision_score(y_test, test_predictions)\n",
    "\n",
    "# Calculate recall\n",
    "recall = recall_score(y_test, test_predictions)\n",
    "\n",
    "# Calculate F1 score\n",
    "f1 = f1_score(y_test, test_predictions)\n",
    "\n",
    "# Calculate micro F1 score\n",
    "micro_f1 = f1_score(y_test, test_predictions, average='micro')\n",
    "print(\"Micro F1 Score:\", micro_f1)\n",
    "\n",
    "# Calculate macro F1 score\n",
    "macro_f1 = f1_score(y_test, test_predictions, average='macro')\n",
    "print(\"Macro F1 Score:\", macro_f1)\n",
    "\n",
    "# Calculate ROC AUC score\n",
    "test_predictions_proba = gb_classifier.predict_proba(X_test)[:, 1]  # Probabilities for positive class\n",
    "roc_auc = roc_auc_score(y_test, test_predictions_proba)\n",
    "\n",
    "# Calculate confusion matrix\n",
    "conf_matrix = confusion_matrix(y_test, test_predictions)\n",
    "\n",
    "print(\"Test Accuracy:\", test_accuracy)\n",
    "print(\"Precision:\", precision)\n",
    "print(\"Recall:\", recall)\n",
    "print(\"F1 Score:\", f1)\n",
    "print(\"ROC AUC Score:\", roc_auc)\n",
    "print(\"Confusion Matrix:\\n\", conf_matrix)\n"
   ]
  },
  {
   "cell_type": "markdown",
   "id": "fae3d2bb-3c16-4a4c-b420-d4e68d1a1d67",
   "metadata": {},
   "source": [
    "### 4. Bagging"
   ]
  },
  {
   "cell_type": "code",
   "execution_count": 21,
   "id": "76fec8a7-10c8-4b9e-acb9-a491bb6c1307",
   "metadata": {},
   "outputs": [],
   "source": [
    "# imbalanced + cv"
   ]
  },
  {
   "cell_type": "code",
   "execution_count": 22,
   "id": "b68ffc93-9a1e-4c8c-b462-54a154606896",
   "metadata": {},
   "outputs": [
    {
     "name": "stdout",
     "output_type": "stream",
     "text": [
      "Validation Accuracy: 0.9267605633802817\n",
      "Cross-validation Scores: [0.91989437 0.92605634 0.92517606 0.92605634 0.92341549]\n",
      "Mean CV Accuracy: 0.9241197183098592\n",
      "Test Accuracy: 0.9247009148486981\n"
     ]
    }
   ],
   "source": [
    "from sklearn.model_selection import train_test_split, cross_val_score\n",
    "from sklearn.ensemble import BaggingClassifier\n",
    "from xgboost import XGBClassifier\n",
    "from sklearn.metrics import accuracy_score\n",
    "\n",
    "# Split the dataset into features and labels\n",
    "X = data_cleaned.drop('status_label_encoded', axis=1)\n",
    "y = data_cleaned['status_label_encoded']\n",
    "\n",
    "# Split the data set into training set, validation set and test set\n",
    "X_train_val, X_test, y_train_val, y_test = train_test_split(X, y, test_size=0.2, random_state=42)\n",
    "X_train, X_val, y_train, y_val = train_test_split(X_train_val, y_train_val, test_size=0.25, random_state=42)  # 80% training, 20% validation\n",
    "\n",
    "# Define a XGBoost base estimator\n",
    "base_estimator = XGBClassifier(n_estimators=100, random_state=42)  #better than base_estimator=DecisionTreeClassifier\n",
    "# Define a bagging classifier\n",
    "bagging_classifier = BaggingClassifier(base_estimator=base_estimator, n_estimators=10, random_state=42)\n",
    "\n",
    "# Train the model on the training set\n",
    "bagging_classifier.fit(X_train, y_train)\n",
    "\n",
    "# Make predictions on the validation set\n",
    "val_predictions = bagging_classifier.predict(X_val)\n",
    "# Calculate accuracy on validation set\n",
    "val_accuracy = accuracy_score(y_val, val_predictions)\n",
    "print(\"Validation Accuracy:\", val_accuracy)\n",
    "\n",
    "# Perform cross-validation on the train_val set\n",
    "cv_scores = cross_val_score(bagging_classifier, X_train_val, y_train_val, cv=5)\n",
    "# Print cross-validation scores\n",
    "print(\"Cross-validation Scores:\", cv_scores)\n",
    "print(\"Mean CV Accuracy:\", cv_scores.mean())\n",
    "\n",
    "\n",
    "\n",
    "# Make predictions on the test set\n",
    "test_predictions = bagging_classifier.predict(X_test)\n",
    "# Calculate accuracy on test set\n",
    "test_accuracy = accuracy_score(y_test, test_predictions)\n",
    "print(\"Test Accuracy:\", test_accuracy)\n"
   ]
  },
  {
   "cell_type": "code",
   "execution_count": 23,
   "id": "2fa69893-48ae-4ddf-b419-679fb2d92cb5",
   "metadata": {},
   "outputs": [
    {
     "name": "stdout",
     "output_type": "stream",
     "text": [
      "Micro F1 Score: 0.9247009148486981\n",
      "Macro F1 Score: 0.5453642988066512\n",
      "Test Accuracy: 0.9247009148486981\n",
      "Precision: 0.8888888888888888\n",
      "Recall: 0.07017543859649122\n",
      "F1 Score: 0.13008130081300814\n",
      "ROC AUC Score: 0.7904267171371427\n",
      "Confusion Matrix:\n",
      " [[1306    1]\n",
      " [ 106    8]]\n"
     ]
    }
   ],
   "source": [
    "from sklearn.metrics import precision_score, recall_score, f1_score, roc_auc_score, confusion_matrix\n",
    "\n",
    "\n",
    "# Calculate accuracy on test set\n",
    "test_accuracy = accuracy_score(y_test, test_predictions)\n",
    "\n",
    "# Calculate precision\n",
    "precision = precision_score(y_test, test_predictions)\n",
    "\n",
    "# Calculate recall\n",
    "recall = recall_score(y_test, test_predictions)\n",
    "\n",
    "# Calculate F1 score\n",
    "f1 = f1_score(y_test, test_predictions)\n",
    "\n",
    "# Calculate micro F1 score\n",
    "micro_f1 = f1_score(y_test, test_predictions, average='micro')\n",
    "print(\"Micro F1 Score:\", micro_f1)\n",
    "\n",
    "# Calculate macro F1 score\n",
    "macro_f1 = f1_score(y_test, test_predictions, average='macro')\n",
    "print(\"Macro F1 Score:\", macro_f1)\n",
    "\n",
    "# Calculate ROC AUC score\n",
    "test_predictions_proba = bagging_classifier.predict_proba(X_test)[:, 1]  # Probabilities for positive class\n",
    "roc_auc = roc_auc_score(y_test, test_predictions_proba)\n",
    "\n",
    "# Calculate confusion matrix\n",
    "conf_matrix = confusion_matrix(y_test, test_predictions)\n",
    "\n",
    "print(\"Test Accuracy:\", test_accuracy)\n",
    "print(\"Precision:\", precision)\n",
    "print(\"Recall:\", recall)\n",
    "print(\"F1 Score:\", f1)\n",
    "print(\"ROC AUC Score:\", roc_auc)\n",
    "print(\"Confusion Matrix:\\n\", conf_matrix)\n"
   ]
  },
  {
   "cell_type": "code",
   "execution_count": null,
   "id": "0ce603e3-5411-43aa-b4f9-e4ce89eb0602",
   "metadata": {},
   "outputs": [],
   "source": []
  }
 ],
 "metadata": {
  "kernelspec": {
   "display_name": "Python 3 (ipykernel)",
   "language": "python",
   "name": "python3"
  },
  "language_info": {
   "codemirror_mode": {
    "name": "ipython",
    "version": 3
   },
   "file_extension": ".py",
   "mimetype": "text/x-python",
   "name": "python",
   "nbconvert_exporter": "python",
   "pygments_lexer": "ipython3",
   "version": "3.9.13"
  }
 },
 "nbformat": 4,
 "nbformat_minor": 5
}
